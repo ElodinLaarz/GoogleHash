{
 "cells": [
  {
   "cell_type": "code",
   "execution_count": 1,
   "metadata": {},
   "outputs": [],
   "source": [
    "# A simple way of sorting using a random alphabet\n",
    "import random"
   ]
  },
  {
   "cell_type": "code",
   "execution_count": 11,
   "metadata": {},
   "outputs": [
    {
     "name": "stdout",
     "output_type": "stream",
     "text": [
      "The starting alphabet\n",
      "['0', '1', '2', '3', '4', '5', '6', '7', '8', '9', ':', ';', '<', '=', '>', '?', '@', 'A', 'B', 'C', 'D', 'E', 'F', 'G', 'H', 'I', 'J', 'K', 'L', 'M', 'N', 'O', 'P', 'Q', 'R', 'S', 'T', 'U', 'V', 'W', 'X', 'Y', 'Z', '[', '\\\\', ']', '^', '_', '`', 'a', 'b', 'c', 'd', 'e', 'f', 'g', 'h', 'i', 'j', 'k', 'l', 'm', 'n', 'o', 'p', 'q', 'r', 's', 't', 'u', 'v', 'w', 'x', 'y', 'z']\n"
     ]
    }
   ],
   "source": [
    "# Give alphabet (lower, upper, numbers, and some special characters is given)\n",
    "alphabet = [chr(i) for i in range(48,123)]\n",
    "print(f'The starting alphabet\\n{alphabet}')"
   ]
  },
  {
   "cell_type": "code",
   "execution_count": 12,
   "metadata": {},
   "outputs": [
    {
     "name": "stdout",
     "output_type": "stream",
     "text": [
      "A random shuffling of the given alphabet\n",
      "['W', 'C', ':', 'E', 'n', '8', 'b', ';', 'e', '5', 'D', 'B', 'y', 'v', 'k', '1', 'm', 'p', 'q', 'P', 'o', 'f', 't', '=', 'H', 'L', 'g', 'G', 'u', 'c', 'N', 'J', 'V', 'X', 'K', '7', 'a', 'M', 'h', 'T', '4', 'S', 'i', 'Z', 'I', 's', 'F', 'd', 'Y', 'U', ']', '[', 'O', 'A', '0', '>', '9', '^', 'R', '\\\\', '`', 'r', '<', 'Q', '@', 'z', 'j', '3', '6', '2', 'l', '_', 'w', 'x', '?']\n"
     ]
    }
   ],
   "source": [
    "# Randomize the order of the given alphabet\n",
    "rnd_alphabet = alphabet[:]\n",
    "random.shuffle(rnd_alphabet)\n",
    "print(f'A random shuffling of the given alphabet\\n{rnd_alphabet}')"
   ]
  },
  {
   "cell_type": "code",
   "execution_count": 13,
   "metadata": {},
   "outputs": [
    {
     "name": "stdout",
     "output_type": "stream",
     "text": [
      "The associated randomized dictionary\n",
      "{'W': 0, 'C': 1, ':': 2, 'E': 3, 'n': 4, '8': 5, 'b': 6, ';': 7, 'e': 8, '5': 9, 'D': 10, 'B': 11, 'y': 12, 'v': 13, 'k': 14, '1': 15, 'm': 16, 'p': 17, 'q': 18, 'P': 19, 'o': 20, 'f': 21, 't': 22, '=': 23, 'H': 24, 'L': 25, 'g': 26, 'G': 27, 'u': 28, 'c': 29, 'N': 30, 'J': 31, 'V': 32, 'X': 33, 'K': 34, '7': 35, 'a': 36, 'M': 37, 'h': 38, 'T': 39, '4': 40, 'S': 41, 'i': 42, 'Z': 43, 'I': 44, 's': 45, 'F': 46, 'd': 47, 'Y': 48, 'U': 49, ']': 50, '[': 51, 'O': 52, 'A': 53, '0': 54, '>': 55, '9': 56, '^': 57, 'R': 58, '\\\\': 59, '`': 60, 'r': 61, '<': 62, 'Q': 63, '@': 64, 'z': 65, 'j': 66, '3': 67, '6': 68, '2': 69, 'l': 70, '_': 71, 'w': 72, 'x': 73, '?': 74}.\n"
     ]
    }
   ],
   "source": [
    "# Create dictionary wrt given random alphabet\n",
    "rnd_dict = {x[1]:x[0] for x in enumerate(rnd_alphabet)}\n",
    "print(f'The associated randomized dictionary\\n{rnd_dict}.')"
   ]
  },
  {
   "cell_type": "code",
   "execution_count": 14,
   "metadata": {},
   "outputs": [
    {
     "name": "stdout",
     "output_type": "stream",
     "text": [
      "The result of sorting ['a', 'b', 'c', 'A', 'B', 'C'] with respect to your given randomized order: ['C', 'b', 'B', 'c', 'a', 'A']\n"
     ]
    }
   ],
   "source": [
    "# Give data to sort wrt alphabet\n",
    "data = list('abcABC')\n",
    "# Sort data wrt randomized alphabet\n",
    "print(f'The result of sorting {data} with respect to your given randomized order: {sorted(data,key=lambda x:rnd_dict[x[0]])}')"
   ]
  },
  {
   "cell_type": "code",
   "execution_count": null,
   "metadata": {},
   "outputs": [],
   "source": []
  }
 ],
 "metadata": {
  "kernelspec": {
   "display_name": "Python 3",
   "language": "python",
   "name": "python3"
  },
  "language_info": {
   "codemirror_mode": {
    "name": "ipython",
    "version": 3
   },
   "file_extension": ".py",
   "mimetype": "text/x-python",
   "name": "python",
   "nbconvert_exporter": "python",
   "pygments_lexer": "ipython3",
   "version": "3.7.4"
  }
 },
 "nbformat": 4,
 "nbformat_minor": 4
}
