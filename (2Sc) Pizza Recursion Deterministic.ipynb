{
 "cells": [
  {
   "cell_type": "code",
   "execution_count": 15,
   "metadata": {},
   "outputs": [],
   "source": [
    "import numpy as np\n",
    "import pandas as pd\n",
    "from scipy.stats import expon\n",
    "from scipy import stats\n",
    "from itertools import combinations as combowombo\n",
    "import matplotlib.pyplot as plt"
   ]
  },
  {
   "cell_type": "code",
   "execution_count": 2,
   "metadata": {},
   "outputs": [],
   "source": [
    "with open('Data/d_quite_big.in') as file:\n",
    "    data = file.read().split()\n",
    "\n",
    "data = [int(_) for _ in data]\n",
    "MAXSLICES = data[0]\n",
    "TYPES = data[1]\n",
    "PIZZAS = data[2:]\n",
    "pizza_indices = {pizza: index for index, pizza in enumerate(PIZZAS)}"
   ]
  },
  {
   "cell_type": "code",
   "execution_count": 3,
   "metadata": {},
   "outputs": [],
   "source": [
    "def create_sorted_prob_list(size = 1, dist = np.random.uniform, **kwargs):\n",
    "    prob_list = sorted(dist(size = size, **kwargs))\n",
    "    total = sum(prob_list)\n",
    "    prob_list = prob_list/total\n",
    "    return prob_list"
   ]
  },
  {
   "cell_type": "code",
   "execution_count": 4,
   "metadata": {},
   "outputs": [],
   "source": [
    "def expon_list(size = 1, scale = 1):\n",
    "    prob_list = sorted(np.array([(1/scale)*expon.pdf(x/scale) for x in range(size)]))\n",
    "    normed_list = prob_list/sum(prob_list)\n",
    "    return normed_list"
   ]
  },
  {
   "cell_type": "code",
   "execution_count": 5,
   "metadata": {},
   "outputs": [],
   "source": [
    "def all_slices(pizza_list):\n",
    "    possible_slices = sorted([sum(comb) for k in range(1,len(pizza_list)+1) for comb in combowombo(pizza_list,k)])\n",
    "    return possible_slices"
   ]
  },
  {
   "cell_type": "code",
   "execution_count": 6,
   "metadata": {},
   "outputs": [],
   "source": [
    "def compute_slices(max = MAXSLICES, pizza_list = PIZZAS):\n",
    "    final_list = []\n",
    "    while (max >= 0):\n",
    "      admissible_pizzas = [pizza for pizza in pizza_list if pizza <= max]\n",
    "      if admissible_pizzas:\n",
    "        num_pizzas = len(admissible_pizzas)\n",
    "        prob_list = create_sorted_prob_list(size=num_pizzas, dist=np.random.exponential, scale = 0.0001)\n",
    "        index = np.random.choice(num_pizzas,p=prob_list)\n",
    "        rand_pizza = admissible_pizzas.pop(index)\n",
    "        pizza_list = admissible_pizzas\n",
    "        max = max - rand_pizza\n",
    "        final_list.append(rand_pizza)\n",
    "      else:\n",
    "        break\n",
    "    return final_list"
   ]
  },
  {
   "cell_type": "code",
   "execution_count": 16,
   "metadata": {},
   "outputs": [
    {
     "name": "stdout",
     "output_type": "stream",
     "text": [
      "Total = 385749466 \n",
      "diff = 0\n",
      "It took 15.085638284683228 seconds!\n"
     ]
    }
   ],
   "source": [
    "import time\n",
    "start = time.time()\n",
    "\n",
    "MAX = 385749466\n",
    "best_output = []\n",
    "best_total = 0\n",
    "\n",
    "if MAX < 5E6:\n",
    "    reps = 100000\n",
    "elif MAX < 50E6:\n",
    "    reps = 10000\n",
    "elif MAX < 500E6:\n",
    "    reps = 1000\n",
    "else:\n",
    "    reps = 100\n",
    "\n",
    "#I collected some data on how long a particular best solution survives for and modeled it with a Weibull distribution.\n",
    "#I computed the relative liklihood that the best solution would survive 42 more rounds given it survived until time T.\n",
    "#If a solution survives 420 rounds, there is an 78% chance that it will survive 42 more rounds. This was good enough for me to call it\n",
    "#a winner early. This avoids situations where it is actually impossible to make the MAXSLICES. Yes, I did all this for a joke, but also,\n",
    "#It's efficient! Ish.\n",
    "\n",
    "#record_prob = []\n",
    "counter = 0\n",
    "\n",
    "for i in range(reps):\n",
    "    if best_total == MAX:\n",
    "        break\n",
    "    if counter >= 420:\n",
    "        break\n",
    "    output = compute_slices(max = MAX)\n",
    "    total = sum(output)\n",
    "    if total > best_total:\n",
    "        best_total = total\n",
    "        best_output = output\n",
    "        #if counter:\n",
    "        #    record_prob.append(counter)\n",
    "        counter = 0\n",
    "    else:\n",
    "        counter += 1\n",
    "\n",
    "print(f'Total = {best_total} \\ndiff = {MAX - best_total}')\n",
    "print(f'It took {time.time()-start} seconds!')"
   ]
  },
  {
   "cell_type": "code",
   "execution_count": null,
   "metadata": {},
   "outputs": [],
   "source": [
    "Mama_Mia_Its_A_Pizza = sorted([pizza_indices[p] for p in best_output])"
   ]
  },
  {
   "cell_type": "code",
   "execution_count": null,
   "metadata": {},
   "outputs": [],
   "source": [
    "collected_prob = []"
   ]
  },
  {
   "cell_type": "code",
   "execution_count": null,
   "metadata": {},
   "outputs": [],
   "source": [
    "collected_prob.extend(record_prob)\n",
    "td = pd.DataFrame(collected_prob)\n",
    "td.plot.hist(bins=30)"
   ]
  },
  {
   "cell_type": "code",
   "execution_count": null,
   "metadata": {},
   "outputs": [],
   "source": [
    "len(collected_prob)"
   ]
  },
  {
   "cell_type": "code",
   "execution_count": null,
   "metadata": {},
   "outputs": [],
   "source": [
    "c = stats.weibull_min.fit(collected_prob)\n",
    "c"
   ]
  },
  {
   "cell_type": "code",
   "execution_count": null,
   "metadata": {},
   "outputs": [],
   "source": [
    "x = np.linspace(0,1000, 100)\n",
    "W = stats.weibull_min(*c)\n",
    "plt.plot(x,W.pdf(x))\n"
   ]
  },
  {
   "cell_type": "code",
   "execution_count": null,
   "metadata": {},
   "outputs": [],
   "source": []
  }
 ],
 "metadata": {
  "file_extension": ".py",
  "kernelspec": {
   "display_name": "Python 3",
   "language": "python",
   "name": "python3"
  },
  "language_info": {
   "codemirror_mode": {
    "name": "ipython",
    "version": 3
   },
   "file_extension": ".py",
   "mimetype": "text/x-python",
   "name": "python",
   "nbconvert_exporter": "python",
   "pygments_lexer": "ipython3",
   "version": "3.7.4"
  },
  "mimetype": "text/x-python",
  "name": "python",
  "npconvert_exporter": "python",
  "pygments_lexer": "ipython3",
  "version": 3
 },
 "nbformat": 4,
 "nbformat_minor": 4
}
