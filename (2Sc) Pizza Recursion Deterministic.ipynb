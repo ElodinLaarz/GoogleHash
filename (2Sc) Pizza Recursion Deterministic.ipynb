{
 "nbformat": 4,
 "nbformat_minor": 2,
 "metadata": {
  "language_info": {
   "name": "python",
   "codemirror_mode": {
    "name": "ipython",
    "version": 3
   },
   "version": "3.7.3-final"
  },
  "orig_nbformat": 2,
  "file_extension": ".py",
  "mimetype": "text/x-python",
  "name": "python",
  "npconvert_exporter": "python",
  "pygments_lexer": "ipython3",
  "version": 3,
  "kernelspec": {
   "name": "python37364bit60048d0b48ed47279bce78137ce80676",
   "display_name": "Python 3.7.3 64-bit"
  }
 },
 "cells": [
  {
   "cell_type": "code",
   "execution_count": 30,
   "metadata": {},
   "outputs": [],
   "source": [
    "import numpy as np\n",
    "from itertools import combinations as combowombo"
   ]
  },
  {
   "cell_type": "code",
   "execution_count": 2,
   "metadata": {},
   "outputs": [],
   "source": [
    "with open('data/d_quite_big.in') as file:\n",
    "    data = file.read().split()\n",
    "\n",
    "data = [int(_) for _ in data]\n",
    "MAXSLICES = data[0]\n",
    "TYPES = data[1]\n",
    "PIZZAS = data[2:]\n",
    "pizza_indices = {pizza: index for index, pizza in enumerate(PIZZAS)}"
   ]
  },
  {
   "cell_type": "code",
   "execution_count": 96,
   "metadata": {},
   "outputs": [],
   "source": [
    "def create_prob_list(size = 1, dist = np.random.uniform, **kwargs):\n",
    "    prob_list = sorted(dist(size = size, **kwargs))\n",
    "    total = sum(prob_list)\n",
    "    prob_list = prob_list/total\n",
    "    return prob_list"
   ]
  },
  {
   "cell_type": "code",
   "execution_count": 28,
   "metadata": {},
   "outputs": [],
   "source": [
    "def all_slices(pizza_list):\n",
    "    possible_slices = {sum(comb): list(comb) for k in range(1,len(pizza_list)+1) for comb in combowombo(pizza_list,k)}\n",
    "    return possible_slices"
   ]
  },
  {
   "cell_type": "code",
   "execution_count": 97,
   "metadata": {},
   "outputs": [],
   "source": [
    "def compute_slices(max = MAXSLICES, pizza_list = PIZZAS):\n",
    "    final_list = []\n",
    "    while (max >= 0):\n",
    "      admissible_pizzas = [pizza for pizza in pizza_list if pizza <= max]\n",
    "      if admissible_pizzas:\n",
    "        num_pizzas = len(admissible_pizzas)\n",
    "        prob_list = create_prob_list(size=num_pizzas, dist=np.random.exponential, scale = 0.0001)\n",
    "        index = np.random.choice(num_pizzas,p=prob_list)\n",
    "        rand_pizza = admissible_pizzas.pop(index)\n",
    "        pizza_list = admissible_pizzas\n",
    "        max = max - rand_pizza\n",
    "        final_list.append(rand_pizza)\n",
    "      else:\n",
    "        break\n",
    "    return final_list"
   ]
  },
  {
   "cell_type": "code",
   "execution_count": 98,
   "metadata": {},
   "outputs": [],
   "source": [
    "MAX = 1000000000\n",
    "best_output = []\n",
    "best_total = 0\n",
    "for i in range(100):\n",
    "    output = compute_slices(max = MAX)\n",
    "    total = sum(output)\n",
    "    if total > best_total:\n",
    "        best_total = total\n",
    "        best_output = output\n",
    "print(f'Total = {best_total} \\ndiff = {MAX - best_total}')"
   ]
  },
  {
   "cell_type": "code",
   "execution_count": null,
   "metadata": {},
   "outputs": [],
   "source": []
  }
 ]
}