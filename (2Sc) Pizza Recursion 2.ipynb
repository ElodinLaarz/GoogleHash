{
 "nbformat": 4,
 "nbformat_minor": 2,
 "metadata": {
  "language_info": {
   "name": "python",
   "codemirror_mode": {
    "name": "ipython",
    "version": 3
   },
   "version": "3.7.3-final"
  },
  "orig_nbformat": 2,
  "file_extension": ".py",
  "mimetype": "text/x-python",
  "name": "python",
  "npconvert_exporter": "python",
  "pygments_lexer": "ipython3",
  "version": 3,
  "kernelspec": {
   "name": "python37364bit60048d0b48ed47279bce78137ce80676",
   "display_name": "Python 3.7.3 64-bit"
  }
 },
 "cells": [
  {
   "cell_type": "code",
   "execution_count": 1,
   "metadata": {},
   "outputs": [],
   "source": [
    "import numpy as np"
   ]
  },
  {
   "cell_type": "code",
   "execution_count": 3,
   "metadata": {},
   "outputs": [],
   "source": [
    "with open('data/d_quite_big.in') as file:\n",
    "    data = file.read().split()\n",
    "\n",
    "data = [int(_) for _ in data]\n",
    "MAXSLICES = data[0]\n",
    "TYPES = data[1]\n",
    "PIZZAS = data[2:]\n",
    "pizza_indices = {pizza: index for index, pizza in enumerate(PIZZAS)}"
   ]
  },
  {
   "cell_type": "code",
   "execution_count": 4,
   "metadata": {},
   "outputs": [],
   "source": [
    "def create_prob_list(size = 1, dist = np.random.uniform):\n",
    "    prob_list = sorted(dist(size = size))\n",
    "    total = sum(prob_list)\n",
    "    prob_list = prob_list/total\n",
    "    return prob_list"
   ]
  },
  {
   "cell_type": "code",
   "execution_count": 5,
   "metadata": {},
   "outputs": [],
   "source": [
    "def recursion(max = MAXSLICES, pizza_list = PIZZAS):\n",
    "    final_list = []\n",
    "    while (max >= 0):\n",
    "      admissible_pizzas = [pizza for pizza in pizza_list if pizza <= max]\n",
    "      if admissible_pizzas:\n",
    "        num_pizzas = len(admissible_pizzas)\n",
    "        prob_list = create_prob_list(size=num_pizzas, dist=lambda size: np.random.exponential(scale = 0.0001, size = size))\n",
    "        index = np.random.choice(num_pizzas,p=prob_list)\n",
    "        rand_pizza = admissible_pizzas.pop(index)\n",
    "        pizza_list = admissible_pizzas\n",
    "        max = max - rand_pizza\n",
    "        final_list.append(rand_pizza)\n",
    "      else:\n",
    "        max = -1\n",
    "    return final_list"
   ]
  },
  {
   "cell_type": "code",
   "execution_count": 17,
   "metadata": {},
   "outputs": [
    {
     "name": "stdout",
     "output_type": "stream",
     "text": "Total = 999975 \n diff = 25\n"
    }
   ],
   "source": [
    "MAX = 1000000\n",
    "output = recursion(max = MAX)\n",
    "remaining = [p for p in PIZZAS if p not in output]\n",
    "total = sum(pizza for pizza in output)\n",
    "print(f'Total = {total} \\n diff = {MAX - total}')"
   ]
  },
  {
   "cell_type": "code",
   "execution_count": null,
   "metadata": {},
   "outputs": [],
   "source": []
  }
 ]
}