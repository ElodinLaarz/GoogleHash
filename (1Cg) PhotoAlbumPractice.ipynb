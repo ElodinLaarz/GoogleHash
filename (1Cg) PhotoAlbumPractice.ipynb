{
 "cells": [
  {
   "cell_type": "code",
   "execution_count": 1,
<<<<<<< HEAD
   "metadata": {},
=======
   "metadata": {
    "collapsed": false,
    "jupyter": {
     "outputs_hidden": false
    }
   },
>>>>>>> 3fb3863f55d0f3fe0dfda22db742c60ec76cb289
   "outputs": [],
   "source": [
    "import numpy as np\n",
    "\n",
    "from typing import NamedTuple\n",
    "\n",
    "from collections import defaultdict"
   ]
  },
  {
   "cell_type": "code",
   "execution_count": 2,
<<<<<<< HEAD
   "metadata": {},
=======
   "metadata": {
    "collapsed": false,
    "jupyter": {
     "outputs_hidden": false
    }
   },
>>>>>>> 3fb3863f55d0f3fe0dfda22db742c60ec76cb289
   "outputs": [],
   "source": [
    "with open('data/qualification_round_2019/c_memorable_moments.txt') as file:\n",
    "    lines = file.read().splitlines()\n",
    "\n",
    "NUMSLIDES = lines[0]\n",
    "RAW_SLIDES = [line.split() for line in lines[1:]]\n",
    "\n",
    "class Slide(NamedTuple):\n",
    "    type: str\n",
    "    len: int\n",
    "    tags: set\n",
    "    ordered_tags: list\n",
    "\n",
    "slides = [Slide(slide[0], int(slide[1]), set(slide[2:]), sorted(slide[2:])) for slide in RAW_SLIDES]"
   ]
  },
  {
   "cell_type": "code",
   "execution_count": 3,
<<<<<<< HEAD
   "metadata": {},
=======
   "metadata": {
    "collapsed": false,
    "jupyter": {
     "outputs_hidden": false
    }
   },
>>>>>>> 3fb3863f55d0f3fe0dfda22db742c60ec76cb289
   "outputs": [],
   "source": [
    "tags = set.union(*[slide.tags for slide in slides])\n",
    "tag_list = sorted(list(tags))"
   ]
  },
  {
   "cell_type": "code",
   "execution_count": 4,
<<<<<<< HEAD
   "metadata": {},
=======
   "metadata": {
    "collapsed": false,
    "jupyter": {
     "outputs_hidden": false
    }
   },
>>>>>>> 3fb3863f55d0f3fe0dfda22db742c60ec76cb289
   "outputs": [],
   "source": [
    "slide_tags_H = sorted([slide.ordered_tags for slide in slides if slide.type == 'H'])\n",
    "# print(len(slide_tags_H))\n",
    "# 30000\n",
    "slide_tags_V = sorted([slide.ordered_tags for slide in slides if slide.type == 'V'])\n",
    "# print(len(slide_tags_H))\n",
    "# 30000"
   ]
  },
  {
   "cell_type": "code",
   "execution_count": 5,
<<<<<<< HEAD
   "metadata": {},
=======
   "metadata": {
    "collapsed": false,
    "jupyter": {
     "outputs_hidden": false
    }
   },
>>>>>>> 3fb3863f55d0f3fe0dfda22db742c60ec76cb289
   "outputs": [],
   "source": [
    "#### All Sharat ^^ ####"
   ]
  },
  {
   "cell_type": "code",
   "execution_count": 6,
<<<<<<< HEAD
   "metadata": {},
=======
   "metadata": {
    "collapsed": false,
    "jupyter": {
     "outputs_hidden": false
    },
    "scrolled": true
   },
>>>>>>> 3fb3863f55d0f3fe0dfda22db742c60ec76cb289
   "outputs": [
    {
     "data": {
      "text/plain": "1558"
     },
     "execution_count": 6,
     "metadata": {},
     "output_type": "execute_result"
    }
   ],
   "source": [
    "tag_buckets = defaultdict(list)\n",
    "for tags in enumerate(slide_tags_H):\n",
    "    for tag in tags[1]:\n",
    "        tag_buckets[tag].append(tags[0])\n",
    "len(tag_buckets.values())"
   ]
  },
  {
   "cell_type": "code",
   "execution_count": 7,
<<<<<<< HEAD
   "metadata": {},
=======
   "metadata": {
    "collapsed": false,
    "jupyter": {
     "outputs_hidden": false
    }
   },
>>>>>>> 3fb3863f55d0f3fe0dfda22db742c60ec76cb289
   "outputs": [],
   "source": [
    "# # Stupid way to make a thing\n",
    "# longest_path = (0,[])\n",
    "# current_path = []\n",
    "# while something is true:\n",
    "#     current_path.append(node[0])\n",
    "#     if(len(current_path) > longest_path[0]:\n",
    "#         longest_path[1] = current_path\n",
    "#         longest_path[0] = len(current_path)\n",
    "#     else:\n",
    "       "
   ]
  },
  {
   "cell_type": "code",
   "execution_count": 8,
<<<<<<< HEAD
   "metadata": {},
=======
   "metadata": {
    "collapsed": false,
    "jupyter": {
     "outputs_hidden": false
    }
   },
>>>>>>> 3fb3863f55d0f3fe0dfda22db742c60ec76cb289
   "outputs": [],
   "source": [
    "#Take a thing, find a thing?"
   ]
  },
  {
   "cell_type": "code",
   "execution_count": 9,
<<<<<<< HEAD
   "metadata": {},
=======
   "metadata": {
    "collapsed": false,
    "jupyter": {
     "outputs_hidden": false
    },
    "scrolled": true
   },
>>>>>>> 3fb3863f55d0f3fe0dfda22db742c60ec76cb289
   "outputs": [],
   "source": [
    "# # Generate Connected components\n",
    "# tag_clump = slide_tags_H[0][:] #start with a photo and spread out\n",
    "# path = [0]\n",
    "\n",
    "# things_that_can_be_reached = set([])\n",
    "# places_been = {0}\n",
    "\n",
    "# for tag in tag_clump:\n",
    "#     print(len(tag_clump))\n",
    "#     print(things_that_can_be_reached)\n",
    "#     path.append(np.random.choice())\n",
    "#     for i in things_that_can_be_reached:\n",
    "#         tag_clump += slide_tags_H[i]\n",
    "# #         for t in slide_tags_H[i]:\n",
    "# #             if (t not in tag_clump):\n",
    "# #                 tag_clump.append(t)\n",
    "#     things_that_can_be_reached = list(set(things_that_can_be_reached))\n",
    "#     if(pl != len(list(set(tag_clump)))):\n",
    "#         print(f'Indeed, {len(tag_clump)} is not the same as {len(list(set(tag_clump)))}')\n",
    "#         tag_clump = list(set(tag_clump))\n",
    "#         restart = True\n",
    "#         break\n",
    "\n",
    "# print(f'things: {things_that_can_be_reached}')"
   ]
  },
  {
   "cell_type": "code",
   "execution_count": 10,
<<<<<<< HEAD
   "metadata": {},
=======
   "metadata": {
    "collapsed": false,
    "jupyter": {
     "outputs_hidden": false
    }
   },
>>>>>>> 3fb3863f55d0f3fe0dfda22db742c60ec76cb289
   "outputs": [],
   "source": [
    "def interest(slide1, slide2):\n",
    "#     if slide1.type == 'H' and slide2.type == 'H':\n",
    "    S1 = len(set(slide1) - set(slide2))\n",
    "    S2 = len(set(slide1) & set(slide2))\n",
    "    S3 = len(set(slide2) - set(slide1))\n",
    "#     print(S1,S2,S3)\n",
    "    return min(S1,S2,S3)\n",
    "#     else:\n",
    "#         return None"
   ]
  },
  {
   "cell_type": "code",
<<<<<<< HEAD
   "execution_count": 17,
   "metadata": {},
=======
   "execution_count": 11,
   "metadata": {
    "collapsed": false,
    "jupyter": {
     "outputs_hidden": false
    },
    "scrolled": true
   },
>>>>>>> 3fb3863f55d0f3fe0dfda22db742c60ec76cb289
   "outputs": [
    {
     "name": "stdout",
     "output_type": "stream",
<<<<<<< HEAD
     "text": "Time: 21.70517086982727\nBiggest boy (score: 499, length: 467, 467): [234, 366, 1, 324, 32, 302, 38, 196, 224, 458, 37, 144, 211, 377, 265, 327, 223, 216, 423, 471, 245, 318, 258, 345, 158, 189, 485, 332, 47, 432, 108, 114, 36, 336, 326, 476, 45, 351, 283, 87, 276, 409, 78, 157, 171, 231, 236, 48, 40, 41, 8, 357, 273, 81, 346, 168, 316, 261, 315, 185, 33, 457, 368, 35, 145, 251, 397, 222, 126, 106, 240, 99, 263, 237, 215, 272, 214, 63, 71, 148, 98, 82, 396, 394, 436, 153, 56, 2, 418, 356, 463, 142, 235, 408, 406, 390, 344, 232, 229, 193, 167, 298, 279, 381, 437, 274, 13, 18, 385, 267, 269, 461, 25, 91, 334, 275, 430, 312, 147, 333, 76, 84, 462, 50, 429, 445, 413, 291, 412, 296, 411, 466, 290, 4, 121, 292, 355, 317, 352, 303, 16, 17, 14, 238, 39, 294, 380, 329, 117, 177, 26, 104, 213, 178, 295, 172, 443, 187, 405, 219, 441, 217, 109, 209, 417, 191, 363, 226, 354, 339, 304, 70, 170, 166, 46, 319, 241, 322, 66, 65, 323, 202, 434, 498, 203, 342, 205, 349, 259, 86, 175, 242, 243, 179, 103, 398, 469, 61, 379, 486, 497, 467, 212, 54, 331, 136, 253, 307, 452, 402, 119, 246, 199, 15, 330, 440, 288, 341, 207, 280, 181, 161, 43, 44, 309, 387, 472, 218, 197, 186, 198, 97, 286, 388, 389, 373, 169, 90, 227, 287, 79, 138, 49, 233, 479, 192, 343, 340, 52, 401, 378, 451, 362, 359, 190, 200, 310, 248, 407, 143, 107, 420, 421, 493, 256, 314, 174, 281, 62, 55, 173, 176, 204, 120, 415, 154, 184, 150, 311, 96, 100, 361, 116, 468, 255, 28, 228, 27, 22, 23, 127, 382, 383, 42, 306, 386, 164, 230, 442, 122, 262, 448, 69, 34, 491, 335, 67, 201, 372, 490, 141, 85, 465, 297, 320, 456, 163, 140, 447, 325, 89, 159, 499, 484, 59, 74, 260, 450, 5, 495, 301, 128, 77, 321, 271, 252, 0, 247, 460, 422, 438, 289, 367, 111, 360, 51, 83, 369, 481, 492, 433, 391, 210, 393, 404, 20, 487, 149, 374, 428, 9, 113, 137, 125, 95, 160, 208, 133, 483, 284, 308, 102, 57, 101, 94, 285, 130, 348, 270, 250, 478, 444, 305, 414, 426, 464, 151, 92, 10, 6, 3, 266, 183, 453, 72, 264, 293, 446, 131, 132, 58, 180, 424, 370, 313, 195, 410, 21, 12, 19, 494, 353, 93, 347, 220, 473, 338, 337, 375, 435, 416, 124, 365, 459, 165, 162, 376, 449, 139, 384, 24, 30, 244, 31, 194, 53, 282, 470, 455, 64, 146, 225, 254, 392, 29, 156, 155, 134, 454, 118, 403, 482, 115, 112, 110, 350, 129, 7, 419, 75, 474, 328, 60, 123, 300, 135, 11]\n"
=======
     "text": [
      "OOOOOOOH BOY! It is the biggest boy so far! 423\n",
      "OOOOOOOH BOY! It is the biggest boy so far! 490\n",
      "Biggest boy (score: 490, length: 468): [246, 10, 340, 309, 142, 2, 1, 324, 120, 67, 69, 171, 342, 79, 33, 289, 46, 87, 192, 174, 390, 68, 265, 269, 96, 191, 492, 128, 23, 498, 254, 412, 346, 76, 216, 132, 430, 493, 104, 344, 129, 312, 275, 38, 212, 441, 5, 223, 36, 215, 373, 485, 72, 411, 32, 325, 348, 278, 336, 237, 99, 151, 413, 53, 81, 167, 82, 224, 322, 98, 183, 92, 179, 18, 30, 146, 402, 91, 22, 13, 420, 198, 366, 484, 496, 283, 403, 388, 112, 89, 156, 300, 123, 135, 140, 404, 170, 474, 169, 410, 301, 202, 205, 184, 428, 374, 9, 130, 113, 327, 296, 103, 0, 253, 318, 471, 308, 230, 424, 295, 201, 242, 349, 42, 227, 115, 108, 377, 39, 8, 217, 475, 487, 365, 200, 290, 125, 210, 208, 209, 266, 6, 50, 185, 429, 222, 442, 124, 264, 262, 21, 226, 78, 207, 354, 399, 415, 323, 122, 470, 455, 451, 65, 453, 57, 244, 245, 11, 35, 247, 358, 48, 176, 43, 252, 40, 357, 148, 173, 63, 62, 71, 419, 54, 137, 280, 258, 260, 476, 255, 213, 256, 314, 440, 24, 407, 143, 482, 141, 472, 389, 44, 423, 55, 25, 119, 372, 240, 361, 100, 359, 88, 438, 360, 229, 305, 291, 417, 362, 160, 293, 228, 310, 172, 292, 480, 425, 333, 147, 203, 74, 236, 294, 302, 345, 157, 27, 90, 443, 136, 105, 106, 248, 109, 391, 12, 29, 101, 190, 353, 161, 95, 263, 277, 459, 218, 497, 178, 250, 478, 196, 462, 158, 189, 406, 86, 328, 60, 59, 58, 238, 239, 177, 298, 83, 7, 329, 206, 489, 282, 211, 19, 341, 339, 337, 334, 26, 243, 479, 400, 145, 162, 394, 355, 117, 182, 297, 299, 56, 393, 367, 14, 133, 131, 494, 477, 163, 488, 316, 437, 164, 107, 445, 261, 491, 464, 426, 383, 15, 187, 204, 221, 381, 116, 450, 378, 401, 126, 51, 380, 154, 165, 303, 94, 93, 387, 386, 138, 463, 456, 320, 271, 241, 16, 73, 461, 460, 4, 347, 220, 427, 41, 268, 434, 447, 47, 332, 45, 490, 483, 276, 75, 370, 193, 195, 397, 398, 272, 414, 233, 231, 175, 433, 422, 134, 454, 118, 446, 379, 356, 350, 34, 392, 315, 28, 364, 457, 368, 432, 395, 469, 66, 321, 385, 311, 285, 180, 448, 416, 153, 466, 159, 405, 235, 102, 194, 396, 214, 468, 61, 343, 449, 155, 139, 499, 186, 473, 338, 199, 225, 418, 168, 465, 181, 121, 307, 363, 319, 188, 144, 37, 313, 409, 284, 352, 3, 127, 382, 375, 287, 351, 335, 267, 84, 281, 274, 273, 288, 52, 64, 70, 286, 97, 257, 20, 17, 110, 80, 197, 369, 481, 408, 114, 111, 331, 149, 259, 249]\n"
     ]
>>>>>>> 3fb3863f55d0f3fe0dfda22db742c60ec76cb289
    }
   ],
   "source": [
    "import time\n",
    "best_path = []\n",
    "max_score = 0\n",
    "\n",
    "max_iterations = 1000\n",
    "_t = time.time()\n",
    "\n",
    "for i in range(max_iterations):\n",
    "    score = 0\n",
    "\n",
    "    r = np.random.randint(len(slide_tags_H))\n",
    "    random_path = [r]\n",
    "    where_we_been = set(random_path)\n",
    "    # Just makes viable non-empty at start\n",
    "\n",
    "    viable = set([0])\n",
    "\n",
    "    while len(viable) != 0:\n",
    "        viable = set([])\n",
    "        for tag in slide_tags_H[r]:\n",
    "            viable = viable.union(set(tag_buckets[tag]))\n",
    "        viable = viable - where_we_been\n",
    "    #     print(viable)\n",
    "        if len(viable) == 0:\n",
    "            viable = set([])\n",
    "        else:\n",
    "            r_prev = r\n",
    "            r = np.random.choice(list(viable))\n",
    "            score += interest(slide_tags_H[r_prev],slide_tags_H[r])\n",
    "#             print(score)\n",
    "            random_path.append(r)\n",
    "            where_we_been.add(r)\n",
    "#     print(f'Hey look it is a path of lenth {len(where_we_been)}!')\n",
    "#     print(f'It scored {score}!')\n",
    "\n",
    "    if score > max_score:\n",
    "        best_path = random_path[:]\n",
    "        max_score = score\n",
    "        #print(f'OOOOOOOH BOY! It is the biggest boy so far! {max_score}')\n",
    "\n",
    "print(f'Time: {time.time() - _t}\\nBiggest boy (score: {max_score}, length: {len(best_path)}, {len(set(best_path))}): {best_path}')"
   ]
  },
  {
   "cell_type": "code",
   "execution_count": null,
   "metadata": {
    "collapsed": false,
    "jupyter": {
     "outputs_hidden": false
    }
   },
   "outputs": [],
<<<<<<< HEAD
   "source": []
=======
   "source": [
    "# Random sorting chain-nonsense\n"
   ]
>>>>>>> 3fb3863f55d0f3fe0dfda22db742c60ec76cb289
  }
 ],
 "metadata": {
  "kernelspec": {
<<<<<<< HEAD
   "display_name": "Python 3.7.3 64-bit",
   "language": "python",
   "metadata": {
    "cocalc": {
     "description": "Python 3 programming language",
     "priority": 100,
     "url": "https://www.python.org/"
    }
   },
   "name": "python37364bit60048d0b48ed47279bce78137ce80676"
=======
   "display_name": "Python 3",
   "language": "python",
   "name": "python3"
>>>>>>> 3fb3863f55d0f3fe0dfda22db742c60ec76cb289
  },
  "language_info": {
   "codemirror_mode": {
    "name": "ipython",
    "version": 3
   },
   "file_extension": ".py",
   "mimetype": "text/x-python",
   "name": "python",
   "nbconvert_exporter": "python",
   "pygments_lexer": "ipython3",
<<<<<<< HEAD
   "version": "3.7.3-final"
=======
   "version": "3.7.4"
>>>>>>> 3fb3863f55d0f3fe0dfda22db742c60ec76cb289
  }
 },
 "nbformat": 4,
 "nbformat_minor": 4
}
