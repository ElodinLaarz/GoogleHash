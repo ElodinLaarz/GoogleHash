{
 "cells": [
  {
   "cell_type": "code",
   "execution_count": 1,
   "metadata": {
    "collapsed": false
   },
   "outputs": [
   ],
   "source": [
    "import numpy as np\n",
    "\n",
    "from typing import NamedTuple\n",
    "\n",
    "from collections import defaultdict"
   ]
  },
  {
   "cell_type": "code",
   "execution_count": 2,
   "metadata": {
    "collapsed": false
   },
   "outputs": [
   ],
   "source": [
    "with open('data/qualification_round_2019/c_memorable_moments.txt') as file:\n",
    "    lines = file.read().splitlines()\n",
    "\n",
    "NUMSLIDES = lines[0]\n",
    "RAW_SLIDES = [line.split() for line in lines[1:]]\n",
    "\n",
    "class Slide(NamedTuple):\n",
    "    type: str\n",
    "    len: int\n",
    "    tags: set\n",
    "    ordered_tags: list\n",
    "\n",
    "slides = [Slide(slide[0], int(slide[1]), set(slide[2:]), sorted(slide[2:])) for slide in RAW_SLIDES]"
   ]
  },
  {
   "cell_type": "code",
   "execution_count": 3,
   "metadata": {
    "collapsed": false
   },
   "outputs": [
   ],
   "source": [
    "tags = set.union(*[slide.tags for slide in slides])\n",
    "tag_list = sorted(list(tags))"
   ]
  },
  {
   "cell_type": "code",
   "execution_count": 4,
   "metadata": {
    "collapsed": false
   },
   "outputs": [
   ],
   "source": [
    "slide_tags_H = sorted([slide.ordered_tags for slide in slides if slide.type == 'H'])\n",
    "# print(len(slide_tags_H))\n",
    "# 30000\n",
    "slide_tags_V = sorted([slide.ordered_tags for slide in slides if slide.type == 'V'])\n",
    "# print(len(slide_tags_H))\n",
    "# 30000"
   ]
  },
  {
   "cell_type": "code",
   "execution_count": 5,
   "metadata": {
    "collapsed": false
   },
   "outputs": [
   ],
   "source": [
    "#### All Sharat ^^ ####"
   ]
  },
  {
   "cell_type": "code",
   "execution_count": 6,
   "metadata": {
    "collapsed": false,
    "scrolled": true
   },
   "outputs": [
    {
     "data": {
      "text/plain": [
       "1558"
      ]
     },
     "execution_count": 6,
     "metadata": {
     },
     "output_type": "execute_result"
    }
   ],
   "source": [
    "tag_buckets = defaultdict(list)\n",
    "for tags in enumerate(slide_tags_H):\n",
    "    for tag in tags[1]:\n",
    "        tag_buckets[tag].append(tags[0])\n",
    "len(tag_buckets.values())"
   ]
  },
  {
   "cell_type": "code",
   "execution_count": 7,
   "metadata": {
    "collapsed": false
   },
   "outputs": [
   ],
   "source": [
    "# # Stupid way to make a thing\n",
    "# longest_path = (0,[])\n",
    "# current_path = []\n",
    "# while something is true:\n",
    "#     current_path.append(node[0])\n",
    "#     if(len(current_path) > longest_path[0]:\n",
    "#         longest_path[1] = current_path\n",
    "#         longest_path[0] = len(current_path)\n",
    "#     else:\n",
    "       "
   ]
  },
  {
   "cell_type": "code",
   "execution_count": 8,
   "metadata": {
    "collapsed": false
   },
   "outputs": [
   ],
   "source": [
    "#Take a thing, find a thing?"
   ]
  },
  {
   "cell_type": "code",
   "execution_count": 9,
   "metadata": {
    "collapsed": false,
    "scrolled": true
   },
   "outputs": [
   ],
   "source": [
    "# # Generate Connected components\n",
    "# tag_clump = slide_tags_H[0][:] #start with a photo and spread out\n",
    "# path = [0]\n",
    "\n",
    "# things_that_can_be_reached = set([])\n",
    "# places_been = {0}\n",
    "\n",
    "# for tag in tag_clump:\n",
    "#     print(len(tag_clump))\n",
    "#     print(things_that_can_be_reached)\n",
    "#     path.append(np.random.choice())\n",
    "#     for i in things_that_can_be_reached:\n",
    "#         tag_clump += slide_tags_H[i]\n",
    "# #         for t in slide_tags_H[i]:\n",
    "# #             if (t not in tag_clump):\n",
    "# #                 tag_clump.append(t)\n",
    "#     things_that_can_be_reached = list(set(things_that_can_be_reached))\n",
    "#     if(pl != len(list(set(tag_clump)))):\n",
    "#         print(f'Indeed, {len(tag_clump)} is not the same as {len(list(set(tag_clump)))}')\n",
    "#         tag_clump = list(set(tag_clump))\n",
    "#         restart = True\n",
    "#         break\n",
    "\n",
    "# print(f'things: {things_that_can_be_reached}')"
   ]
  },
  {
   "cell_type": "code",
   "execution_count": 10,
   "metadata": {
    "collapsed": false
   },
   "outputs": [
   ],
   "source": [
    "def interest(slide1, slide2):\n",
    "#     if slide1.type == 'H' and slide2.type == 'H':\n",
    "    S1 = len(set(slide1) - set(slide2))\n",
    "    S2 = len(set(slide1) & set(slide2))\n",
    "    S3 = len(set(slide2) - set(slide1))\n",
    "#     print(S1,S2,S3)\n",
    "    return min(S1,S2,S3)\n",
    "#     else:\n",
    "#         return None"
   ]
  },
  {
   "cell_type": "code",
   "execution_count": 11,
   "metadata": {
    "collapsed": false,
    "scrolled": true
   },
   "outputs": [
    {
     "name": "stdout",
     "output_type": "stream",
     "text": [
      "OOOOOOOH BOY! It is the biggest boy so far! 475\n"
     ]
    },
    {
     "name": "stdout",
     "output_type": "stream",
     "text": [
      "OOOOOOOH BOY! It is the biggest boy so far! 478\n"
     ]
    },
    {
     "name": "stdout",
     "output_type": "stream",
     "text": [
      "OOOOOOOH BOY! It is the biggest boy so far! 483\n"
     ]
    },
    {
     "name": "stdout",
     "output_type": "stream",
     "text": [
      "OOOOOOOH BOY! It is the biggest boy so far! 490\n"
     ]
    },
    {
     "name": "stdout",
     "output_type": "stream",
     "text": [
      "Biggest boy (score: 490, length: 465): [200, 171, 104, 26, 117, 471, 210, 265, 340, 65, 497, 196, 202, 328, 422, 438, 367, 88, 260, 360, 313, 410, 336, 246, 162, 248, 414, 89, 329, 288, 330, 247, 2, 316, 220, 69, 149, 198, 307, 161, 199, 349, 318, 258, 269, 51, 389, 282, 470, 406, 110, 436, 146, 119, 440, 24, 487, 365, 240, 64, 368, 47, 305, 74, 255, 407, 61, 22, 91, 57, 60, 213, 178, 341, 402, 16, 426, 54, 275, 251, 28, 180, 476, 133, 145, 82, 203, 358, 478, 314, 271, 322, 43, 150, 184, 222, 62, 223, 348, 151, 46, 415, 450, 267, 8, 335, 491, 350, 20, 15, 362, 103, 225, 400, 317, 19, 166, 167, 164, 270, 129, 58, 3, 278, 169, 38, 237, 18, 428, 172, 111, 114, 187, 205, 33, 381, 138, 221, 176, 173, 83, 7, 351, 197, 80, 56, 298, 107, 485, 373, 419, 71, 116, 81, 283, 44, 461, 147, 109, 108, 113, 218, 262, 294, 208, 374, 420, 238, 14, 21, 490, 301, 143, 106, 95, 101, 84, 125, 245, 9, 449, 413, 148, 214, 235, 484, 100, 130, 292, 291, 97, 259, 417, 480, 48, 40, 239, 177, 175, 430, 304, 312, 429, 442, 441, 217, 236, 385, 397, 331, 300, 123, 168, 10, 453, 489, 423, 140, 477, 494, 85, 70, 68, 315, 261, 499, 250, 498, 303, 337, 120, 344, 252, 35, 183, 4, 295, 154, 49, 327, 194, 191, 189, 118, 144, 188, 212, 137, 190, 192, 378, 416, 153, 433, 377, 249, 209, 359, 370, 396, 289, 320, 25, 379, 469, 224, 229, 155, 157, 460, 347, 302, 163, 425, 361, 12, 121, 308, 290, 90, 122, 493, 92, 405, 408, 86, 443, 474, 185, 216, 481, 73, 309, 342, 482, 102, 141, 483, 387, 363, 467, 451, 334, 273, 6, 50, 418, 472, 59, 232, 174, 136, 105, 142, 463, 456, 457, 279, 353, 346, 452, 458, 253, 293, 466, 53, 181, 215, 42, 127, 0, 276, 325, 179, 444, 1, 324, 98, 39, 207, 78, 244, 376, 454, 306, 399, 355, 394, 395, 264, 124, 160, 495, 371, 391, 206, 72, 311, 77, 227, 115, 67, 446, 36, 11, 13, 274, 96, 63, 204, 87, 366, 332, 357, 135, 131, 37, 297, 182, 447, 23, 128, 152, 354, 382, 375, 226, 393, 404, 475, 326, 211, 432, 268, 372, 266, 29, 156, 254, 412, 277, 272, 398, 296, 445, 31, 30, 17, 431, 462, 158, 159, 496, 186, 263, 99, 427, 132, 285, 126, 256, 468, 281, 448, 241, 257, 319, 134, 94, 93, 383, 76, 401, 299, 5, 75, 323, 333, 201, 403, 388, 233, 435, 242, 421, 284, 243, 352, 170, 165, 219, 356, 45, 488, 459, 343, 79, 287, 32, 34, 392, 411, 230, 437, 234]\n"
     ]
    }
   ],
   "source": [
    "best_path = []\n",
    "max_score = 0\n",
    "\n",
    "max_iterations = 100\n",
    "\n",
    "for i in range(max_iterations):\n",
    "    score = 0\n",
    "\n",
    "    r = np.random.randint(len(slide_tags_H))\n",
    "    random_path = [r]\n",
    "    where_we_been = set(random_path)\n",
    "    # Just makes viable non-empty at start\n",
    "\n",
    "    viable = set([0])\n",
    "\n",
    "    while len(viable) != 0:\n",
    "        viable = set([])\n",
    "        for tag in slide_tags_H[r]:\n",
    "            viable = viable.union(set(tag_buckets[tag]))\n",
    "        viable = viable - where_we_been\n",
    "    #     print(viable)\n",
    "        if len(viable) == 0:\n",
    "            viable = set([])\n",
    "        else:\n",
    "            r_prev = r\n",
    "            r = np.random.choice(list(viable))\n",
    "            score += interest(slide_tags_H[r_prev],slide_tags_H[r])\n",
    "#             print(score)\n",
    "            random_path.append(r)\n",
    "            where_we_been.add(r)\n",
    "#     print(f'Hey look it is a path of lenth {len(where_we_been)}!')\n",
    "#     print(f'It scored {score}!')\n",
    "\n",
    "    if score > max_score:\n",
    "        best_path = random_path[:]\n",
    "        max_score = score\n",
    "        print(f'OOOOOOOH BOY! It is the biggest boy so far! {max_score}')\n",
    "\n",
    "print(f'Biggest boy (score: {max_score}, length: {len(best_path)}): {best_path}')"
   ]
  },
  {
   "cell_type": "code",
   "execution_count": 0,
   "metadata": {
    "collapsed": false
   },
   "outputs": [
   ],
   "source": [
   ]
  }
 ],
 "metadata": {
  "kernelspec": {
   "display_name": "Python 3 (system-wide)",
   "language": "python",
   "metadata": {
    "cocalc": {
     "description": "Python 3 programming language",
     "priority": 100,
     "url": "https://www.python.org/"
    }
   },
   "name": "python3"
  },
  "language_info": {
   "codemirror_mode": {
    "name": "ipython",
    "version": 3
   },
   "file_extension": ".py",
   "mimetype": "text/x-python",
   "name": "python",
   "nbconvert_exporter": "python",
   "pygments_lexer": "ipython3",
   "version": "3.6.9"
  }
 },
 "nbformat": 4,
 "nbformat_minor": 0
}