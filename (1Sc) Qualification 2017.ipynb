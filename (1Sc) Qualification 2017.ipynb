{
 "nbformat": 4,
 "nbformat_minor": 2,
 "metadata": {
  "language_info": {
   "name": "python",
   "codemirror_mode": {
    "name": "ipython",
    "version": 3
   },
   "version": "3.7.3-final"
  },
  "orig_nbformat": 2,
  "file_extension": ".py",
  "mimetype": "text/x-python",
  "name": "python",
  "npconvert_exporter": "python",
  "pygments_lexer": "ipython3",
  "version": 3,
  "kernelspec": {
   "name": "python37364bit60048d0b48ed47279bce78137ce80676",
   "display_name": "Python 3.7.3 64-bit"
  }
 },
 "cells": [
  {
   "cell_type": "code",
   "execution_count": 1,
   "metadata": {},
   "outputs": [],
   "source": [
    "import pandas as pd"
   ]
  },
  {
   "cell_type": "code",
   "execution_count": 2,
   "metadata": {},
   "outputs": [],
   "source": [
    "with open('Data/qualification_round_2017/kittens.in.txt') as file:\n",
    "    data = file.readlines()\n",
    "data = [list(map(int,d[:-1].split())) for d in data]"
   ]
  },
  {
   "cell_type": "code",
   "execution_count": 38,
   "metadata": {},
   "outputs": [],
   "source": [
    "EndPoint = data[2:392+3]"
   ]
  },
  {
   "cell_type": "code",
   "execution_count": 14,
   "metadata": {},
   "outputs": [],
   "source": [
    "Caches = pd.DataFrame(EndPoint[1:])"
   ]
  },
  {
   "cell_type": "code",
   "execution_count": 31,
   "metadata": {},
   "outputs": [
    {
     "data": {
      "text/plain": "0       41\n1      497\n2      337\n3       15\n4      270\n      ... \n387    100\n388    415\n389    361\n390    102\n391     85\nName: 1, Length: 392, dtype: int64"
     },
     "execution_count": 31,
     "metadata": {},
     "output_type": "execute_result"
    }
   ],
   "source": [
    "Caches[1]"
   ]
  },
  {
   "cell_type": "code",
   "execution_count": 36,
   "metadata": {},
   "outputs": [
    {
     "data": {
      "text/plain": "[500,\n 500,\n 497,\n 497,\n 496,\n 495,\n 494,\n 492,\n 489,\n 488,\n 487,\n 486,\n 483,\n 483,\n 481,\n 481,\n 480,\n 479,\n 477,\n 476,\n 476,\n 475,\n 475,\n 474,\n 473,\n 472,\n 471,\n 467,\n 464,\n 462,\n 459,\n 457,\n 455,\n 453,\n 451,\n 449,\n 446,\n 441,\n 441,\n 437,\n 435,\n 431,\n 429,\n 429,\n 427,\n 426,\n 426,\n 426,\n 425,\n 425,\n 425,\n 418,\n 418,\n 417,\n 416,\n 416,\n 416,\n 415,\n 414,\n 412,\n 412,\n 410,\n 410,\n 407,\n 405,\n 401,\n 399,\n 399,\n 397,\n 396,\n 394,\n 392,\n 391,\n 387,\n 386,\n 384,\n 383,\n 383,\n 383,\n 382,\n 381,\n 380,\n 380,\n 379,\n 379,\n 378,\n 377,\n 377,\n 376,\n 376,\n 375,\n 374,\n 374,\n 373,\n 372,\n 371,\n 367,\n 366,\n 363,\n 361,\n 360,\n 359,\n 358,\n 354,\n 354,\n 354,\n 352,\n 352,\n 351,\n 350,\n 350,\n 350,\n 349,\n 349,\n 348,\n 347,\n 347,\n 346,\n 346,\n 346,\n 345,\n 344,\n 340,\n 339,\n 337,\n 337,\n 336,\n 335,\n 334,\n 331,\n 331,\n 329,\n 329,\n 328,\n 326,\n 326,\n 326,\n 324,\n 323,\n 322,\n 319,\n 318,\n 318,\n 317,\n 315,\n 315,\n 314,\n 314,\n 313,\n 313,\n 312,\n 311,\n 307,\n 306,\n 305,\n 305,\n 304,\n 304,\n 302,\n 301,\n 298,\n 297,\n 293,\n 293,\n 291,\n 290,\n 288,\n 288,\n 285,\n 283,\n 282,\n 282,\n 277,\n 277,\n 276,\n 276,\n 275,\n 274,\n 274,\n 273,\n 272,\n 272,\n 271,\n 270,\n 270,\n 268,\n 268,\n 266,\n 263,\n 262,\n 261,\n 259,\n 258,\n 258,\n 255,\n 253,\n 253,\n 251,\n 250,\n 248,\n 247,\n 246,\n 246,\n 246,\n 245,\n 243,\n 242,\n 239,\n 238,\n 238,\n 237,\n 237,\n 236,\n 235,\n 234,\n 233,\n 233,\n 231,\n 231,\n 229,\n 228,\n 228,\n 226,\n 226,\n 222,\n 222,\n 221,\n 220,\n 218,\n 218,\n 218,\n 217,\n 215,\n 215,\n 213,\n 213,\n 213,\n 211,\n 210,\n 208,\n 208,\n 207,\n 204,\n 203,\n 203,\n 201,\n 199,\n 198,\n 191,\n 190,\n 190,\n 190,\n 186,\n 181,\n 176,\n 175,\n 174,\n 174,\n 171,\n 171,\n 169,\n 168,\n 167,\n 166,\n 165,\n 164,\n 162,\n 162,\n 160,\n 158,\n 156,\n 154,\n 154,\n 153,\n 152,\n 146,\n 145,\n 145,\n 144,\n 143,\n 142,\n 139,\n 138,\n 138,\n 137,\n 136,\n 136,\n 136,\n 135,\n 135,\n 130,\n 127,\n 126,\n 126,\n 125,\n 124,\n 123,\n 122,\n 122,\n 120,\n 116,\n 116,\n 114,\n 113,\n 113,\n 111,\n 111,\n 110,\n 109,\n 109,\n 107,\n 107,\n 106,\n 106,\n 104,\n 104,\n 102,\n 100,\n 100,\n 98,\n 98,\n 97,\n 94,\n 93,\n 93,\n 91,\n 91,\n 90,\n 88,\n 87,\n 85,\n 84,\n 83,\n 83,\n 80,\n 79,\n 77,\n 75,\n 70,\n 68,\n 64,\n 64,\n 64,\n 63,\n 61,\n 61,\n 61,\n 60,\n 60,\n 59,\n 58,\n 55,\n 54,\n 53,\n 51,\n 51,\n 47,\n 47,\n 46,\n 46,\n 44,\n 43,\n 43,\n 41,\n 41,\n 39,\n 38,\n 38,\n 38,\n 37,\n 36,\n 33,\n 27,\n 26,\n 26,\n 26,\n 21,\n 20,\n 15,\n 15,\n 14,\n 14,\n 13,\n 13,\n 11,\n 10,\n 8,\n 6,\n 3,\n 3,\n 2,\n 1]"
     },
     "execution_count": 36,
     "metadata": {},
     "output_type": "execute_result"
    }
   ],
   "source": [
    "list(Caches[1].sort_values(ascending = False))"
   ]
  },
  {
   "cell_type": "code",
   "execution_count": null,
   "metadata": {},
   "outputs": [],
   "source": []
  }
 ]
}