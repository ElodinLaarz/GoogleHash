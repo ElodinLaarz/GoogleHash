{
 "cells": [
  {
   "cell_type": "code",
   "execution_count": 64,
   "metadata": {},
   "outputs": [],
   "source": [
    "import numpy as np\n",
    "import sys\n",
    "from itertools import product"
   ]
  },
  {
   "cell_type": "code",
   "execution_count": 65,
   "metadata": {},
   "outputs": [],
   "source": [
    "# A simple graph class to demonstrate Dijkstra's Algorithm\n",
    "class Graph():\n",
    "\n",
    "    def __init__(self, num_vertices):\n",
    "        self.num_V = num_vertices\n",
    "        self.weights = np.zeros((num_vertices,num_vertices))\n",
    "        \n",
    "    def dijkstra(self, start_index, goal_index):\n",
    "        if(start_index >= self.num_V or goal_index >= self.num_V):\n",
    "            print('One of your vertex indicies is out of range...')\n",
    "        else:\n",
    "            distances = np.repeat(sys.maxsize,self.num_V)\n",
    "            distances[start_index] = 0\n",
    "            visited = [False] * self.num_V\n",
    "            while(visited[goal_index]!=True):\n",
    "                unvisited_indices = np.array([x[0] for x in filter(lambda _: visited[_[0]] == False, enumerate(distances))])\n",
    "                unvisited_distances = [distances[x] for x in unvisited_indices]\n",
    "                \n",
    "                current_index = unvisited_indices[unvisited_distances.index(min(unvisited_distances))]\n",
    "                # Range over the unvisited neighbors of the current node\n",
    "                for neighbor in filter(lambda _: _[1] != 0 and not visited[_[0]], enumerate(self.weights[current_index])):\n",
    "                    # If the distance to the current node + weight of edge\n",
    "                    # to the next neighbor is shorter than current shortest\n",
    "                    # path, replace the shortest distance.\n",
    "                    dist_through_node = self.weights[current_index][neighbor[0]] + distances[current_index]\n",
    "                    if (dist_through_node < distances[neighbor[0]]):\n",
    "                        distances[neighbor[0]] = dist_through_node\n",
    "                visited[current_index] = True\n",
    "            return(distances[goal_index])"
   ]
  },
  {
   "cell_type": "code",
   "execution_count": 71,
   "metadata": {},
   "outputs": [
    {
     "data": {
      "text/plain": [
       "array([[0, 2, 2, 0],\n",
       "       [2, 0, 3, 0],\n",
       "       [2, 3, 0, 1],\n",
       "       [0, 0, 1, 0]])"
      ]
     },
     "execution_count": 71,
     "metadata": {},
     "output_type": "execute_result"
    }
   ],
   "source": [
    "g_size = 4\n",
    "g = Graph(g_size)\n",
    "g.weights = np.array([[0,2,2,0],[2,0,3,0],[2,3,0,1],[0,0,1,0]]);g.weights"
   ]
  },
  {
   "cell_type": "code",
   "execution_count": 72,
   "metadata": {},
   "outputs": [
    {
     "name": "stdout",
     "output_type": "stream",
     "text": [
      "distance from 0 to 0 = 0.\n",
      "distance from 0 to 1 = 2.\n",
      "distance from 0 to 2 = 2.\n",
      "distance from 0 to 3 = 3.\n",
      "distance from 1 to 0 = 2.\n",
      "distance from 1 to 1 = 0.\n",
      "distance from 1 to 2 = 3.\n",
      "distance from 1 to 3 = 4.\n",
      "distance from 2 to 0 = 2.\n",
      "distance from 2 to 1 = 3.\n",
      "distance from 2 to 2 = 0.\n",
      "distance from 2 to 3 = 1.\n",
      "distance from 3 to 0 = 3.\n",
      "distance from 3 to 1 = 4.\n",
      "distance from 3 to 2 = 1.\n",
      "distance from 3 to 3 = 0.\n"
     ]
    }
   ],
   "source": [
    "for i,j in product(range(g_size),range(g_size)):\n",
    "    print(f'distance from {i} to {j} = {g.dijkstra(i,j)}.')"
   ]
  },
  {
   "cell_type": "code",
   "execution_count": null,
   "metadata": {},
   "outputs": [],
   "source": []
  }
 ],
 "metadata": {
  "kernelspec": {
   "display_name": "Python 3",
   "language": "python",
   "name": "python3"
  },
  "language_info": {
   "codemirror_mode": {
    "name": "ipython",
    "version": 3
   },
   "file_extension": ".py",
   "mimetype": "text/x-python",
   "name": "python",
   "nbconvert_exporter": "python",
   "pygments_lexer": "ipython3",
   "version": "3.7.4"
  }
 },
 "nbformat": 4,
 "nbformat_minor": 4
}
