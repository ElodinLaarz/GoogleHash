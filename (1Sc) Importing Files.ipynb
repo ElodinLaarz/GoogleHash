{
 "nbformat": 4,
 "nbformat_minor": 2,
 "metadata": {
  "language_info": {
   "name": "python",
   "codemirror_mode": {
    "name": "ipython",
    "version": 3
   },
   "version": "3.7.3-final"
  },
  "orig_nbformat": 2,
  "file_extension": ".py",
  "mimetype": "text/x-python",
  "name": "python",
  "npconvert_exporter": "python",
  "pygments_lexer": "ipython3",
  "version": 3,
  "kernelspec": {
   "name": "python37364bit60048d0b48ed47279bce78137ce80676",
   "display_name": "Python 3.7.3 64-bit"
  }
 },
 "cells": [
  {
   "cell_type": "code",
   "execution_count": 2,
   "metadata": {},
   "outputs": [],
   "source": [
    "import numpy as np\n",
    "import pandas as pd"
   ]
  },
  {
   "cell_type": "code",
   "execution_count": 1,
   "metadata": {},
   "outputs": [],
   "source": [
    "with open('data/d_quite_big.in') as file:\n",
    "    data = file.read().split()\n",
    "\n",
    "data = [int(_) for _ in data]\n",
    "MAXSLICES = data[0]\n",
    "TYPES = data[1]\n",
    "PIZZAS = data[2:]\n",
    "ENUMERATED_PIZZAS = list(enumerate(PIZZAS))"
   ]
  },
  {
   "cell_type": "code",
   "execution_count": 3,
   "metadata": {},
   "outputs": [],
   "source": [
    "def create_prob_list(size = 1, dist = np.random.uniform):\n",
    "    prob_list = sorted(dist(size = size))\n",
    "    total = sum(prob_list)\n",
    "    prob_list = prob_list/total\n",
    "    return prob_list"
   ]
  },
  {
   "cell_type": "code",
   "execution_count": 4,
   "metadata": {},
   "outputs": [],
   "source": [
    "def step(max = MAXSLICES, pizza_list = ENUMERATED_PIZZAS):\n",
    "    admissible_pizzas = [(index, pizza) for index, pizza in pizza_list if pizza <= max]\n",
    "    if admissible_pizzas:\n",
    "        num_pizzas = len(admissible_pizzas)\n",
    "        prob_list = pd.DataFrame(create_prob_list(size=num_pizzas, dist=lambda size: np.random.exponential(scale = 0.001, size = size))).values.tolist()\n",
    "        prob_list = [t[0] for t in prob_list]\n",
    "        index = np.random.choice(num_pizzas,p=prob_list)\n",
    "        rand_pizza = admissible_pizzas.pop(index)\n",
    "        new_max = max - rand_pizza[1]\n",
    "        return rand_pizza, new_max, admissible_pizzas\n",
    "    return (), -1, []"
   ]
  },
  {
   "cell_type": "code",
   "execution_count": 5,
   "metadata": {},
   "outputs": [],
   "source": [
    "def recursion(max = MAXSLICES, pizza_list = ENUMERATED_PIZZAS):\n",
    "    final_list = []\n",
    "    while (max >= 0):\n",
    "       rand_pizza, max, pizza_list = step(max = max, pizza_list = pizza_list)\n",
    "       final_list.append(rand_pizza)\n",
    "    return final_list"
   ]
  },
  {
   "cell_type": "code",
   "execution_count": 18,
   "metadata": {},
   "outputs": [
    {
     "name": "stdout",
     "output_type": "stream",
     "text": "Total = 999999845 \n diff = 155\n"
    }
   ],
   "source": [
    "MAX = 1000000000\n",
    "output = recursion(max = MAX)[:-1]\n",
    "remaining = [p for p in ENUMERATED_PIZZAS if p not in output]\n",
    "total = sum(b for a, b in output if b)\n",
    "print(f'Total = {total} \\n diff = {MAX - total}')"
   ]
  },
  {
   "cell_type": "code",
   "execution_count": null,
   "metadata": {},
   "outputs": [],
   "source": []
  }
 ]
}