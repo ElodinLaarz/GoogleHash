{
 "cells": [
  {
   "cell_type": "code",
   "execution_count": 1,
   "metadata": {},
   "outputs": [],
   "source": [
    "import numpy as np\n",
    "import pandas as pd"
   ]
  },
  {
   "cell_type": "code",
   "execution_count": 2,
   "metadata": {},
   "outputs": [],
   "source": [
    "with open('data/d_quite_big.in') as file:\n",
    "    data = file.read().split()\n",
    "\n",
    "data = [int(_) for _ in data]\n",
    "MAXSLICES = data[0]\n",
    "TYPES = data[1]\n",
    "PIZZAS = data[2:]\n",
    "ENUMERATED_PIZZAS = list(enumerate(PIZZAS))"
   ]
  },
  {
   "cell_type": "code",
   "execution_count": 3,
   "metadata": {},
   "outputs": [],
   "source": [
    "def create_prob_list(size = 1, dist = np.random.uniform):\n",
    "    prob_list = sorted(dist(size = size))\n",
    "    total = sum(prob_list)\n",
    "    prob_list = prob_list/total\n",
    "    return prob_list"
   ]
  },
  {
   "cell_type": "code",
   "execution_count": 4,
   "metadata": {},
   "outputs": [],
   "source": [
    "def step(max = MAXSLICES, pizza_list = ENUMERATED_PIZZAS):\n",
    "    admissible_pizzas = [(index, pizza) for index, pizza in pizza_list if pizza <= max]\n",
    "    if admissible_pizzas:\n",
    "        num_pizzas = len(admissible_pizzas)\n",
    "        prob_list = pd.DataFrame(create_prob_list(size=num_pizzas, dist=lambda size: np.random.exponential(scale = 0.001, size = size))).values.tolist()\n",
    "        prob_list = [t[0] for t in prob_list]\n",
    "        index = np.random.choice(num_pizzas,p=prob_list)\n",
    "        rand_pizza = admissible_pizzas.pop(index)\n",
    "        new_max = max - rand_pizza[1]\n",
    "        return rand_pizza, new_max, admissible_pizzas\n",
    "    return (), -1, []"
   ]
  },
  {
   "cell_type": "code",
   "execution_count": 5,
   "metadata": {},
   "outputs": [],
   "source": [
    "def recursion(max = MAXSLICES, pizza_list = ENUMERATED_PIZZAS):\n",
    "    final_list = []\n",
    "    while (max >= 0):\n",
    "       rand_pizza, max, pizza_list = step(max = max, pizza_list = pizza_list)\n",
    "       final_list.append(rand_pizza)\n",
    "    return final_list"
   ]
  },
  {
   "cell_type": "code",
   "execution_count": 7,
   "metadata": {},
   "outputs": [
    {
     "name": "stdout",
     "output_type": "stream",
     "text": [
      "Total = 999999821 \n",
      " diff = 179\n",
      "It took 1.737351655960083 seconds.\n",
      "Total = 999999682 \n",
      " diff = 318\n",
      "It took 1.7612903118133545 seconds.\n",
      "Total = 999999636 \n",
      " diff = 364\n",
      "It took 2.028852939605713 seconds.\n",
      "Total = 999999508 \n",
      " diff = 492\n",
      "It took 1.9866878986358643 seconds.\n",
      "Total = 999999791 \n",
      " diff = 209\n",
      "It took 1.8799710273742676 seconds.\n",
      "Total = 999999802 \n",
      " diff = 198\n",
      "It took 1.7692687511444092 seconds.\n",
      "Total = 999999939 \n",
      " diff = 61\n",
      "It took 1.7722890377044678 seconds.\n",
      "Total = 999999740 \n",
      " diff = 260\n",
      "It took 1.7652738094329834 seconds.\n",
      "Total = 999999917 \n",
      " diff = 83\n",
      "It took 1.7423179149627686 seconds.\n",
      "Total = 999999931 \n",
      " diff = 69\n",
      "It took 1.7772471904754639 seconds.\n",
      "Yay! All done!\n",
      " On average it took 1.8220550537109375 seconds in your 10 tests with an average \"error\" of 223.3.\n"
     ]
    }
   ],
   "source": [
    "import time\n",
    "num_tests = 10\n",
    "times = []\n",
    "errors = []\n",
    "\n",
    "for i in range(num_tests):\n",
    "    start = time.time()\n",
    "    MAX = 1000000000\n",
    "    output = recursion(max = MAX)[:-1]\n",
    "    remaining = [p for p in ENUMERATED_PIZZAS if p not in output]\n",
    "    total = sum(b for a, b in output if b)\n",
    "    errors.append(MAX - total)\n",
    "    print(f'Total = {total} \\n diff = {MAX - total}')\n",
    "    times.append(time.time()-start)\n",
    "    print(f'It took {times[-1]} seconds.')\n",
    "\n",
    "print(f'Yay! All done!\\n On average it took {sum(times)/len(times)} seconds in your {num_tests} tests with an average \"error\" of {sum(errors)/len(errors)}.')"
   ]
  },
  {
   "cell_type": "code",
   "execution_count": null,
   "metadata": {},
   "outputs": [],
   "source": []
  }
 ],
 "metadata": {
  "file_extension": ".py",
  "kernelspec": {
   "display_name": "Python 3",
   "language": "python",
   "name": "python3"
  },
  "language_info": {
   "codemirror_mode": {
    "name": "ipython",
    "version": 3
   },
   "file_extension": ".py",
   "mimetype": "text/x-python",
   "name": "python",
   "nbconvert_exporter": "python",
   "pygments_lexer": "ipython3",
   "version": "3.7.4"
  },
  "mimetype": "text/x-python",
  "name": "python",
  "npconvert_exporter": "python",
  "pygments_lexer": "ipython3",
  "version": 3
 },
 "nbformat": 4,
 "nbformat_minor": 4
}
