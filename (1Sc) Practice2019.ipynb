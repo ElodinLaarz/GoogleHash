{
 "cells": [
  {
   "cell_type": "code",
   "execution_count": 1,
   "metadata": {
    "collapsed": false
   },
   "outputs": [
   ],
   "source": [
    "import numpy as np\n",
    "from typing import NamedTuple\n",
    "from collections import defaultdict"
   ]
  },
  {
   "cell_type": "code",
   "execution_count": 2,
   "metadata": {
    "collapsed": false
   },
   "outputs": [
   ],
   "source": [
    "with open('data/qualification_round_2019/d_pet_pictures.txt') as file:\n",
    "    lines = file.read().splitlines()\n",
    "\n",
    "NUMSLIDES = lines[0]\n",
    "RAW_SLIDES = [line.split() for line in lines[1:]]\n",
    "\n",
    "class Slide(NamedTuple):\n",
    "    type: str\n",
    "    len: int\n",
    "    tags: set\n",
    "    ordered_tags: list\n",
    "\n",
    "slides = [Slide(slide[0], int(slide[1]), set(slide[2:]), sorted(slide[2:])) for slide in RAW_SLIDES]"
   ]
  },
  {
   "cell_type": "code",
   "execution_count": 3,
   "metadata": {
    "collapsed": false
   },
   "outputs": [
   ],
   "source": [
    "tags = set.union(*[slide.tags for slide in slides])\n",
    "tag_list = sorted(list(tags))"
   ]
  },
  {
   "cell_type": "code",
   "execution_count": 4,
   "metadata": {
    "collapsed": false
   },
   "outputs": [
   ],
   "source": [
    "slides_H = sorted([slide.ordered_tags for slide in slides if slide.type == 'H']) #80000\n",
    "slides_V = sorted([slide.ordered_tags for slide in slides if slide.type == 'V']) #0"
   ]
  },
  {
   "cell_type": "code",
   "execution_count": 51,
   "metadata": {
    "collapsed": false
   },
   "outputs": [
   ],
   "source": [
    "def interest(slide1, slide2):\n",
    "    if slide1.type == 'H' and slide2.type == 'H':\n",
    "        S1 = len(slide1.tags - slide2.tags)\n",
    "        S2 = len(slide1.tags & slide2.tags)\n",
    "        S3 = len(slide2.tags - slide1.tags)\n",
    "        return min(S1,S2,S3)\n",
    "    else: \n",
    "        return None"
   ]
  },
  {
   "cell_type": "code",
   "execution_count": 6,
   "metadata": {
    "collapsed": false
   },
   "outputs": [
   ],
   "source": [
    "buckets = iter(tag_list)\n",
    "bucket_dict = defaultdict(list)\n",
    "current_bucket = next(buckets)\n",
    "for slide in slides_V:\n",
    "    if slide[0] != current_bucket:\n",
    "        current_bucket = next(buckets)\n",
    "    bucket_dict[current_bucket].append(slide)\n",
    "        "
   ]
  },
  {
   "cell_type": "code",
   "execution_count": 7,
   "metadata": {
    "collapsed": false
   },
   "outputs": [
   ],
   "source": [
    "a = [len(o) for o in bucket_dict.values()]"
   ]
  },
  {
   "cell_type": "code",
   "execution_count": 11,
   "metadata": {
    "collapsed": false
   },
   "outputs": [
    {
     "data": {
      "text/plain": [
       "(1, 11830)"
      ]
     },
     "execution_count": 11,
     "metadata": {
     },
     "output_type": "execute_result"
    }
   ],
   "source": [
    "min(a), max(a)"
   ]
  },
  {
   "cell_type": "code",
   "execution_count": 0,
   "metadata": {
    "collapsed": false
   },
   "outputs": [
   ],
   "source": [
   ]
  }
 ],
 "metadata": {
  "file_extension": ".py",
  "kernelspec": {
   "display_name": "Python 3 (system-wide)",
   "language": "python",
   "metadata": {
    "cocalc": {
     "description": "Python 3 programming language",
     "priority": 100,
     "url": "https://www.python.org/"
    }
   },
   "name": "python3"
  },
  "language_info": {
   "codemirror_mode": {
    "name": "ipython",
    "version": 3
   },
   "file_extension": ".py",
   "mimetype": "text/x-python",
   "name": "python",
   "nbconvert_exporter": "python",
   "pygments_lexer": "ipython3",
   "version": "3.6.9"
  },
  "mimetype": "text/x-python",
  "name": "python",
  "npconvert_exporter": "python",
  "orig_nbformat": 2,
  "pygments_lexer": "ipython3",
  "version": 3
 },
 "nbformat": 4,
 "nbformat_minor": 0
}