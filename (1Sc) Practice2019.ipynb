{
 "cells": [
  {
   "cell_type": "code",
<<<<<<< HEAD
   "execution_count": 52,
   "metadata": {},
   "outputs": [],
=======
   "execution_count": 1,
   "metadata": {
    "collapsed": false
   },
   "outputs": [
   ],
>>>>>>> b354a2bbf6bb6b532d92c27cb8bc868dbd44054c
   "source": [
    "import scipy as sci\n",
    "from scipy import stats\n",
    "import numpy as np\n",
    "import pandas as pd"
   ]
  },
  {
   "cell_type": "code",
<<<<<<< HEAD
   "execution_count": 27,
   "metadata": {},
   "outputs": [],
=======
   "execution_count": 2,
   "metadata": {
    "collapsed": false
   },
   "outputs": [
   ],
>>>>>>> b354a2bbf6bb6b532d92c27cb8bc868dbd44054c
   "source": [
    "with open('data/qualification_round_2019/d_pet_pictures.txt') as file:\n",
    "    lines = file.read().splitlines()\n",
    "\n",
    "NUMPHOTOS = lines[0]\n",
    "RAW_PHOTOS = [line.split() for line in lines[1:]]\n",
    "\n",
    "class Photo:\n",
    "    def __init__(self, type, len, tags):\n",
    "        self.type = type\n",
    "        self.len = len\n",
    "        self.tags = tags\n",
    "\n",
    "photos = [Photo(raw_photo[0], int(raw_photo[1]), set(raw_photo[2:])) for raw_photo in RAW_PHOTOS]"
   ]
  },
  {
   "cell_type": "code",
<<<<<<< HEAD
   "execution_count": 28,
   "metadata": {},
   "outputs": [],
=======
   "execution_count": 3,
   "metadata": {
    "collapsed": false
   },
   "outputs": [
   ],
>>>>>>> b354a2bbf6bb6b532d92c27cb8bc868dbd44054c
   "source": [
    "tags = set.union(*[photo.tags for photo in photos])\n",
    "tag_list = sorted(list(tags))"
   ]
  },
  {
   "cell_type": "code",
<<<<<<< HEAD
   "execution_count": 29,
   "metadata": {},
   "outputs": [],
=======
   "execution_count": 4,
   "metadata": {
    "collapsed": false
   },
   "outputs": [
   ],
>>>>>>> b354a2bbf6bb6b532d92c27cb8bc868dbd44054c
   "source": [
    "photos_H = [photo for photo in photos if photo.type == 'H']\n",
    "photos_V = [photo for photo in photos if photo.type == 'V']"
   ]
  },
  {
   "cell_type": "code",
<<<<<<< HEAD
   "execution_count": 30,
   "metadata": {},
   "outputs": [],
=======
   "execution_count": 51,
   "metadata": {
    "collapsed": false
   },
   "outputs": [
   ],
>>>>>>> b354a2bbf6bb6b532d92c27cb8bc868dbd44054c
   "source": [
    "def interest(slide1, slide2):\n",
    "    A = slide1.tags\n",
    "    B = slide2.tags\n",
    "    S1 = len(A - B)\n",
    "    S2 = len(A & B)\n",
    "    S3 = len(B - A)\n",
    "    return min(S1,S2,S3)"
   ]
  },
  {
   "cell_type": "code",
<<<<<<< HEAD
   "execution_count": 39,
   "metadata": {},
   "outputs": [
    {
     "data": {
      "text/plain": "1"
     },
     "execution_count": 39,
     "metadata": {},
     "output_type": "execute_result"
    }
   ],
   "source": [
    "interest(sci.random.choice(photos_H),sci.random.choice(photos_H))"
   ]
  },
  {
   "cell_type": "code",
   "execution_count": 55,
   "metadata": {},
   "outputs": [],
=======
   "execution_count": 6,
   "metadata": {
    "collapsed": false
   },
   "outputs": [
   ],
>>>>>>> b354a2bbf6bb6b532d92c27cb8bc868dbd44054c
   "source": [
    "hist =  [interest(sci.random.choice(photos_H),sci.random.choice(photos_H)) for i in range(1000)]"
   ]
  },
  {
   "cell_type": "code",
<<<<<<< HEAD
   "execution_count": 56,
   "metadata": {},
   "outputs": [],
=======
   "execution_count": 7,
   "metadata": {
    "collapsed": false
   },
   "outputs": [
   ],
>>>>>>> b354a2bbf6bb6b532d92c27cb8bc868dbd44054c
   "source": [
    "df = pd.DataFrame(hist)"
   ]
  },
  {
   "cell_type": "code",
<<<<<<< HEAD
   "execution_count": 57,
   "metadata": {},
   "outputs": [
    {
     "data": {
      "text/plain": "<matplotlib.axes._subplots.AxesSubplot at 0x1f966dd3160>"
     },
     "execution_count": 57,
     "metadata": {},
=======
   "execution_count": 11,
   "metadata": {
    "collapsed": false
   },
   "outputs": [
    {
     "data": {
      "text/plain": [
       "(1, 11830)"
      ]
     },
     "execution_count": 11,
     "metadata": {
     },
>>>>>>> b354a2bbf6bb6b532d92c27cb8bc868dbd44054c
     "output_type": "execute_result"
    },
    {
     "data": {
      "image/png": "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\n",
      "image/svg+xml": "<?xml version=\"1.0\" encoding=\"utf-8\" standalone=\"no\"?>\r\n<!DOCTYPE svg PUBLIC \"-//W3C//DTD SVG 1.1//EN\"\r\n  \"http://www.w3.org/Graphics/SVG/1.1/DTD/svg11.dtd\">\r\n<!-- Created with matplotlib (https://matplotlib.org/) -->\r\n<svg height=\"248.518125pt\" version=\"1.1\" viewBox=\"0 0 388.965625 248.518125\" width=\"388.965625pt\" xmlns=\"http://www.w3.org/2000/svg\" xmlns:xlink=\"http://www.w3.org/1999/xlink\">\r\n <defs>\r\n  <style type=\"text/css\">\r\n*{stroke-linecap:butt;stroke-linejoin:round;}\r\n  </style>\r\n </defs>\r\n <g id=\"figure_1\">\r\n  <g id=\"patch_1\">\r\n   <path d=\"M 0 248.518125 \r\nL 388.965625 248.518125 \r\nL 388.965625 0 \r\nL 0 0 \r\nz\r\n\" style=\"fill:none;\"/>\r\n  </g>\r\n  <g id=\"axes_1\">\r\n   <g id=\"patch_2\">\r\n    <path d=\"M 46.965625 224.64 \r\nL 381.765625 224.64 \r\nL 381.765625 7.2 \r\nL 46.965625 7.2 \r\nz\r\n\" style=\"fill:#ffffff;\"/>\r\n   </g>\r\n   <g id=\"patch_3\">\r\n    <path clip-path=\"url(#p7a1ad914bf)\" d=\"M 62.183807 224.64 \r\nL 92.62017 224.64 \r\nL 92.62017 17.554286 \r\nL 62.183807 17.554286 \r\nz\r\n\" style=\"fill:#1f77b4;\"/>\r\n   </g>\r\n   <g id=\"patch_4\">\r\n    <path clip-path=\"url(#p7a1ad914bf)\" d=\"M 92.62017 224.64 \r\nL 123.056534 224.64 \r\nL 123.056534 25.893308 \r\nL 92.62017 25.893308 \r\nz\r\n\" style=\"fill:#1f77b4;\"/>\r\n   </g>\r\n   <g id=\"patch_5\">\r\n    <path clip-path=\"url(#p7a1ad914bf)\" d=\"M 123.056534 224.64 \r\nL 153.492898 224.64 \r\nL 153.492898 224.64 \r\nL 123.056534 224.64 \r\nz\r\n\" style=\"fill:#1f77b4;\"/>\r\n   </g>\r\n   <g id=\"patch_6\">\r\n    <path clip-path=\"url(#p7a1ad914bf)\" d=\"M 153.492898 224.64 \r\nL 183.929261 224.64 \r\nL 183.929261 78.012196 \r\nL 153.492898 78.012196 \r\nz\r\n\" style=\"fill:#1f77b4;\"/>\r\n   </g>\r\n   <g id=\"patch_7\">\r\n    <path clip-path=\"url(#p7a1ad914bf)\" d=\"M 183.929261 224.64 \r\nL 214.365625 224.64 \r\nL 214.365625 224.64 \r\nL 183.929261 224.64 \r\nz\r\n\" style=\"fill:#1f77b4;\"/>\r\n   </g>\r\n   <g id=\"patch_8\">\r\n    <path clip-path=\"url(#p7a1ad914bf)\" d=\"M 214.365625 224.64 \r\nL 244.801989 224.64 \r\nL 244.801989 150.978639 \r\nL 214.365625 150.978639 \r\nz\r\n\" style=\"fill:#1f77b4;\"/>\r\n   </g>\r\n   <g id=\"patch_9\">\r\n    <path clip-path=\"url(#p7a1ad914bf)\" d=\"M 244.801989 224.64 \r\nL 275.238352 224.64 \r\nL 275.238352 178.775379 \r\nL 244.801989 178.775379 \r\nz\r\n\" style=\"fill:#1f77b4;\"/>\r\n   </g>\r\n   <g id=\"patch_10\">\r\n    <path clip-path=\"url(#p7a1ad914bf)\" d=\"M 275.238352 224.64 \r\nL 305.674716 224.64 \r\nL 305.674716 224.64 \r\nL 275.238352 224.64 \r\nz\r\n\" style=\"fill:#1f77b4;\"/>\r\n   </g>\r\n   <g id=\"patch_11\">\r\n    <path clip-path=\"url(#p7a1ad914bf)\" d=\"M 305.674716 224.64 \r\nL 336.11108 224.64 \r\nL 336.11108 205.8772 \r\nL 305.674716 205.8772 \r\nz\r\n\" style=\"fill:#1f77b4;\"/>\r\n   </g>\r\n   <g id=\"patch_12\">\r\n    <path clip-path=\"url(#p7a1ad914bf)\" d=\"M 336.11108 224.64 \r\nL 366.547443 224.64 \r\nL 366.547443 220.470489 \r\nL 336.11108 220.470489 \r\nz\r\n\" style=\"fill:#1f77b4;\"/>\r\n   </g>\r\n   <g id=\"matplotlib.axis_1\">\r\n    <g id=\"xtick_1\">\r\n     <g id=\"line2d_1\">\r\n      <defs>\r\n       <path d=\"M 0 0 \r\nL 0 3.5 \r\n\" id=\"me27153c9c6\" style=\"stroke:#000000;stroke-width:0.8;\"/>\r\n      </defs>\r\n      <g>\r\n       <use style=\"stroke:#000000;stroke-width:0.8;\" x=\"62.183807\" xlink:href=\"#me27153c9c6\" y=\"224.64\"/>\r\n      </g>\r\n     </g>\r\n     <g id=\"text_1\">\r\n      <!-- 0 -->\r\n      <defs>\r\n       <path d=\"M 31.78125 66.40625 \r\nQ 24.171875 66.40625 20.328125 58.90625 \r\nQ 16.5 51.421875 16.5 36.375 \r\nQ 16.5 21.390625 20.328125 13.890625 \r\nQ 24.171875 6.390625 31.78125 6.390625 \r\nQ 39.453125 6.390625 43.28125 13.890625 \r\nQ 47.125 21.390625 47.125 36.375 \r\nQ 47.125 51.421875 43.28125 58.90625 \r\nQ 39.453125 66.40625 31.78125 66.40625 \r\nz\r\nM 31.78125 74.21875 \r\nQ 44.046875 74.21875 50.515625 64.515625 \r\nQ 56.984375 54.828125 56.984375 36.375 \r\nQ 56.984375 17.96875 50.515625 8.265625 \r\nQ 44.046875 -1.421875 31.78125 -1.421875 \r\nQ 19.53125 -1.421875 13.0625 8.265625 \r\nQ 6.59375 17.96875 6.59375 36.375 \r\nQ 6.59375 54.828125 13.0625 64.515625 \r\nQ 19.53125 74.21875 31.78125 74.21875 \r\nz\r\n\" id=\"DejaVuSans-48\"/>\r\n      </defs>\r\n      <g transform=\"translate(59.002557 239.238437)scale(0.1 -0.1)\">\r\n       <use xlink:href=\"#DejaVuSans-48\"/>\r\n      </g>\r\n     </g>\r\n    </g>\r\n    <g id=\"xtick_2\">\r\n     <g id=\"line2d_2\">\r\n      <g>\r\n       <use style=\"stroke:#000000;stroke-width:0.8;\" x=\"112.91108\" xlink:href=\"#me27153c9c6\" y=\"224.64\"/>\r\n      </g>\r\n     </g>\r\n     <g id=\"text_2\">\r\n      <!-- 1 -->\r\n      <defs>\r\n       <path d=\"M 12.40625 8.296875 \r\nL 28.515625 8.296875 \r\nL 28.515625 63.921875 \r\nL 10.984375 60.40625 \r\nL 10.984375 69.390625 \r\nL 28.421875 72.90625 \r\nL 38.28125 72.90625 \r\nL 38.28125 8.296875 \r\nL 54.390625 8.296875 \r\nL 54.390625 0 \r\nL 12.40625 0 \r\nz\r\n\" id=\"DejaVuSans-49\"/>\r\n      </defs>\r\n      <g transform=\"translate(109.72983 239.238437)scale(0.1 -0.1)\">\r\n       <use xlink:href=\"#DejaVuSans-49\"/>\r\n      </g>\r\n     </g>\r\n    </g>\r\n    <g id=\"xtick_3\">\r\n     <g id=\"line2d_3\">\r\n      <g>\r\n       <use style=\"stroke:#000000;stroke-width:0.8;\" x=\"163.638352\" xlink:href=\"#me27153c9c6\" y=\"224.64\"/>\r\n      </g>\r\n     </g>\r\n     <g id=\"text_3\">\r\n      <!-- 2 -->\r\n      <defs>\r\n       <path d=\"M 19.1875 8.296875 \r\nL 53.609375 8.296875 \r\nL 53.609375 0 \r\nL 7.328125 0 \r\nL 7.328125 8.296875 \r\nQ 12.9375 14.109375 22.625 23.890625 \r\nQ 32.328125 33.6875 34.8125 36.53125 \r\nQ 39.546875 41.84375 41.421875 45.53125 \r\nQ 43.3125 49.21875 43.3125 52.78125 \r\nQ 43.3125 58.59375 39.234375 62.25 \r\nQ 35.15625 65.921875 28.609375 65.921875 \r\nQ 23.96875 65.921875 18.8125 64.3125 \r\nQ 13.671875 62.703125 7.8125 59.421875 \r\nL 7.8125 69.390625 \r\nQ 13.765625 71.78125 18.9375 73 \r\nQ 24.125 74.21875 28.421875 74.21875 \r\nQ 39.75 74.21875 46.484375 68.546875 \r\nQ 53.21875 62.890625 53.21875 53.421875 \r\nQ 53.21875 48.921875 51.53125 44.890625 \r\nQ 49.859375 40.875 45.40625 35.40625 \r\nQ 44.1875 33.984375 37.640625 27.21875 \r\nQ 31.109375 20.453125 19.1875 8.296875 \r\nz\r\n\" id=\"DejaVuSans-50\"/>\r\n      </defs>\r\n      <g transform=\"translate(160.457102 239.238437)scale(0.1 -0.1)\">\r\n       <use xlink:href=\"#DejaVuSans-50\"/>\r\n      </g>\r\n     </g>\r\n    </g>\r\n    <g id=\"xtick_4\">\r\n     <g id=\"line2d_4\">\r\n      <g>\r\n       <use style=\"stroke:#000000;stroke-width:0.8;\" x=\"214.365625\" xlink:href=\"#me27153c9c6\" y=\"224.64\"/>\r\n      </g>\r\n     </g>\r\n     <g id=\"text_4\">\r\n      <!-- 3 -->\r\n      <defs>\r\n       <path d=\"M 40.578125 39.3125 \r\nQ 47.65625 37.796875 51.625 33 \r\nQ 55.609375 28.21875 55.609375 21.1875 \r\nQ 55.609375 10.40625 48.1875 4.484375 \r\nQ 40.765625 -1.421875 27.09375 -1.421875 \r\nQ 22.515625 -1.421875 17.65625 -0.515625 \r\nQ 12.796875 0.390625 7.625 2.203125 \r\nL 7.625 11.71875 \r\nQ 11.71875 9.328125 16.59375 8.109375 \r\nQ 21.484375 6.890625 26.8125 6.890625 \r\nQ 36.078125 6.890625 40.9375 10.546875 \r\nQ 45.796875 14.203125 45.796875 21.1875 \r\nQ 45.796875 27.640625 41.28125 31.265625 \r\nQ 36.765625 34.90625 28.71875 34.90625 \r\nL 20.21875 34.90625 \r\nL 20.21875 43.015625 \r\nL 29.109375 43.015625 \r\nQ 36.375 43.015625 40.234375 45.921875 \r\nQ 44.09375 48.828125 44.09375 54.296875 \r\nQ 44.09375 59.90625 40.109375 62.90625 \r\nQ 36.140625 65.921875 28.71875 65.921875 \r\nQ 24.65625 65.921875 20.015625 65.03125 \r\nQ 15.375 64.15625 9.8125 62.3125 \r\nL 9.8125 71.09375 \r\nQ 15.4375 72.65625 20.34375 73.4375 \r\nQ 25.25 74.21875 29.59375 74.21875 \r\nQ 40.828125 74.21875 47.359375 69.109375 \r\nQ 53.90625 64.015625 53.90625 55.328125 \r\nQ 53.90625 49.265625 50.4375 45.09375 \r\nQ 46.96875 40.921875 40.578125 39.3125 \r\nz\r\n\" id=\"DejaVuSans-51\"/>\r\n      </defs>\r\n      <g transform=\"translate(211.184375 239.238437)scale(0.1 -0.1)\">\r\n       <use xlink:href=\"#DejaVuSans-51\"/>\r\n      </g>\r\n     </g>\r\n    </g>\r\n    <g id=\"xtick_5\">\r\n     <g id=\"line2d_5\">\r\n      <g>\r\n       <use style=\"stroke:#000000;stroke-width:0.8;\" x=\"265.092898\" xlink:href=\"#me27153c9c6\" y=\"224.64\"/>\r\n      </g>\r\n     </g>\r\n     <g id=\"text_5\">\r\n      <!-- 4 -->\r\n      <defs>\r\n       <path d=\"M 37.796875 64.3125 \r\nL 12.890625 25.390625 \r\nL 37.796875 25.390625 \r\nz\r\nM 35.203125 72.90625 \r\nL 47.609375 72.90625 \r\nL 47.609375 25.390625 \r\nL 58.015625 25.390625 \r\nL 58.015625 17.1875 \r\nL 47.609375 17.1875 \r\nL 47.609375 0 \r\nL 37.796875 0 \r\nL 37.796875 17.1875 \r\nL 4.890625 17.1875 \r\nL 4.890625 26.703125 \r\nz\r\n\" id=\"DejaVuSans-52\"/>\r\n      </defs>\r\n      <g transform=\"translate(261.911648 239.238437)scale(0.1 -0.1)\">\r\n       <use xlink:href=\"#DejaVuSans-52\"/>\r\n      </g>\r\n     </g>\r\n    </g>\r\n    <g id=\"xtick_6\">\r\n     <g id=\"line2d_6\">\r\n      <g>\r\n       <use style=\"stroke:#000000;stroke-width:0.8;\" x=\"315.82017\" xlink:href=\"#me27153c9c6\" y=\"224.64\"/>\r\n      </g>\r\n     </g>\r\n     <g id=\"text_6\">\r\n      <!-- 5 -->\r\n      <defs>\r\n       <path d=\"M 10.796875 72.90625 \r\nL 49.515625 72.90625 \r\nL 49.515625 64.59375 \r\nL 19.828125 64.59375 \r\nL 19.828125 46.734375 \r\nQ 21.96875 47.46875 24.109375 47.828125 \r\nQ 26.265625 48.1875 28.421875 48.1875 \r\nQ 40.625 48.1875 47.75 41.5 \r\nQ 54.890625 34.8125 54.890625 23.390625 \r\nQ 54.890625 11.625 47.5625 5.09375 \r\nQ 40.234375 -1.421875 26.90625 -1.421875 \r\nQ 22.3125 -1.421875 17.546875 -0.640625 \r\nQ 12.796875 0.140625 7.71875 1.703125 \r\nL 7.71875 11.625 \r\nQ 12.109375 9.234375 16.796875 8.0625 \r\nQ 21.484375 6.890625 26.703125 6.890625 \r\nQ 35.15625 6.890625 40.078125 11.328125 \r\nQ 45.015625 15.765625 45.015625 23.390625 \r\nQ 45.015625 31 40.078125 35.4375 \r\nQ 35.15625 39.890625 26.703125 39.890625 \r\nQ 22.75 39.890625 18.8125 39.015625 \r\nQ 14.890625 38.140625 10.796875 36.28125 \r\nz\r\n\" id=\"DejaVuSans-53\"/>\r\n      </defs>\r\n      <g transform=\"translate(312.63892 239.238437)scale(0.1 -0.1)\">\r\n       <use xlink:href=\"#DejaVuSans-53\"/>\r\n      </g>\r\n     </g>\r\n    </g>\r\n    <g id=\"xtick_7\">\r\n     <g id=\"line2d_7\">\r\n      <g>\r\n       <use style=\"stroke:#000000;stroke-width:0.8;\" x=\"366.547443\" xlink:href=\"#me27153c9c6\" y=\"224.64\"/>\r\n      </g>\r\n     </g>\r\n     <g id=\"text_7\">\r\n      <!-- 6 -->\r\n      <defs>\r\n       <path d=\"M 33.015625 40.375 \r\nQ 26.375 40.375 22.484375 35.828125 \r\nQ 18.609375 31.296875 18.609375 23.390625 \r\nQ 18.609375 15.53125 22.484375 10.953125 \r\nQ 26.375 6.390625 33.015625 6.390625 \r\nQ 39.65625 6.390625 43.53125 10.953125 \r\nQ 47.40625 15.53125 47.40625 23.390625 \r\nQ 47.40625 31.296875 43.53125 35.828125 \r\nQ 39.65625 40.375 33.015625 40.375 \r\nz\r\nM 52.59375 71.296875 \r\nL 52.59375 62.3125 \r\nQ 48.875 64.0625 45.09375 64.984375 \r\nQ 41.3125 65.921875 37.59375 65.921875 \r\nQ 27.828125 65.921875 22.671875 59.328125 \r\nQ 17.53125 52.734375 16.796875 39.40625 \r\nQ 19.671875 43.65625 24.015625 45.921875 \r\nQ 28.375 48.1875 33.59375 48.1875 \r\nQ 44.578125 48.1875 50.953125 41.515625 \r\nQ 57.328125 34.859375 57.328125 23.390625 \r\nQ 57.328125 12.15625 50.6875 5.359375 \r\nQ 44.046875 -1.421875 33.015625 -1.421875 \r\nQ 20.359375 -1.421875 13.671875 8.265625 \r\nQ 6.984375 17.96875 6.984375 36.375 \r\nQ 6.984375 53.65625 15.1875 63.9375 \r\nQ 23.390625 74.21875 37.203125 74.21875 \r\nQ 40.921875 74.21875 44.703125 73.484375 \r\nQ 48.484375 72.75 52.59375 71.296875 \r\nz\r\n\" id=\"DejaVuSans-54\"/>\r\n      </defs>\r\n      <g transform=\"translate(363.366193 239.238437)scale(0.1 -0.1)\">\r\n       <use xlink:href=\"#DejaVuSans-54\"/>\r\n      </g>\r\n     </g>\r\n    </g>\r\n   </g>\r\n   <g id=\"matplotlib.axis_2\">\r\n    <g id=\"ytick_1\">\r\n     <g id=\"line2d_8\">\r\n      <defs>\r\n       <path d=\"M 0 0 \r\nL -3.5 0 \r\n\" id=\"mda9d5ff4fd\" style=\"stroke:#000000;stroke-width:0.8;\"/>\r\n      </defs>\r\n      <g>\r\n       <use style=\"stroke:#000000;stroke-width:0.8;\" x=\"46.965625\" xlink:href=\"#mda9d5ff4fd\" y=\"224.64\"/>\r\n      </g>\r\n     </g>\r\n     <g id=\"text_8\">\r\n      <!-- 0 -->\r\n      <g transform=\"translate(33.603125 228.439219)scale(0.1 -0.1)\">\r\n       <use xlink:href=\"#DejaVuSans-48\"/>\r\n      </g>\r\n     </g>\r\n    </g>\r\n    <g id=\"ytick_2\">\r\n     <g id=\"line2d_9\">\r\n      <g>\r\n       <use style=\"stroke:#000000;stroke-width:0.8;\" x=\"46.965625\" xlink:href=\"#mda9d5ff4fd\" y=\"189.894075\"/>\r\n      </g>\r\n     </g>\r\n     <g id=\"text_9\">\r\n      <!-- 50 -->\r\n      <g transform=\"translate(27.240625 193.693294)scale(0.1 -0.1)\">\r\n       <use xlink:href=\"#DejaVuSans-53\"/>\r\n       <use x=\"63.623047\" xlink:href=\"#DejaVuSans-48\"/>\r\n      </g>\r\n     </g>\r\n    </g>\r\n    <g id=\"ytick_3\">\r\n     <g id=\"line2d_10\">\r\n      <g>\r\n       <use style=\"stroke:#000000;stroke-width:0.8;\" x=\"46.965625\" xlink:href=\"#mda9d5ff4fd\" y=\"155.14815\"/>\r\n      </g>\r\n     </g>\r\n     <g id=\"text_10\">\r\n      <!-- 100 -->\r\n      <g transform=\"translate(20.878125 158.947368)scale(0.1 -0.1)\">\r\n       <use xlink:href=\"#DejaVuSans-49\"/>\r\n       <use x=\"63.623047\" xlink:href=\"#DejaVuSans-48\"/>\r\n       <use x=\"127.246094\" xlink:href=\"#DejaVuSans-48\"/>\r\n      </g>\r\n     </g>\r\n    </g>\r\n    <g id=\"ytick_4\">\r\n     <g id=\"line2d_11\">\r\n      <g>\r\n       <use style=\"stroke:#000000;stroke-width:0.8;\" x=\"46.965625\" xlink:href=\"#mda9d5ff4fd\" y=\"120.402224\"/>\r\n      </g>\r\n     </g>\r\n     <g id=\"text_11\">\r\n      <!-- 150 -->\r\n      <g transform=\"translate(20.878125 124.201443)scale(0.1 -0.1)\">\r\n       <use xlink:href=\"#DejaVuSans-49\"/>\r\n       <use x=\"63.623047\" xlink:href=\"#DejaVuSans-53\"/>\r\n       <use x=\"127.246094\" xlink:href=\"#DejaVuSans-48\"/>\r\n      </g>\r\n     </g>\r\n    </g>\r\n    <g id=\"ytick_5\">\r\n     <g id=\"line2d_12\">\r\n      <g>\r\n       <use style=\"stroke:#000000;stroke-width:0.8;\" x=\"46.965625\" xlink:href=\"#mda9d5ff4fd\" y=\"85.656299\"/>\r\n      </g>\r\n     </g>\r\n     <g id=\"text_12\">\r\n      <!-- 200 -->\r\n      <g transform=\"translate(20.878125 89.455518)scale(0.1 -0.1)\">\r\n       <use xlink:href=\"#DejaVuSans-50\"/>\r\n       <use x=\"63.623047\" xlink:href=\"#DejaVuSans-48\"/>\r\n       <use x=\"127.246094\" xlink:href=\"#DejaVuSans-48\"/>\r\n      </g>\r\n     </g>\r\n    </g>\r\n    <g id=\"ytick_6\">\r\n     <g id=\"line2d_13\">\r\n      <g>\r\n       <use style=\"stroke:#000000;stroke-width:0.8;\" x=\"46.965625\" xlink:href=\"#mda9d5ff4fd\" y=\"50.910374\"/>\r\n      </g>\r\n     </g>\r\n     <g id=\"text_13\">\r\n      <!-- 250 -->\r\n      <g transform=\"translate(20.878125 54.709593)scale(0.1 -0.1)\">\r\n       <use xlink:href=\"#DejaVuSans-50\"/>\r\n       <use x=\"63.623047\" xlink:href=\"#DejaVuSans-53\"/>\r\n       <use x=\"127.246094\" xlink:href=\"#DejaVuSans-48\"/>\r\n      </g>\r\n     </g>\r\n    </g>\r\n    <g id=\"ytick_7\">\r\n     <g id=\"line2d_14\">\r\n      <g>\r\n       <use style=\"stroke:#000000;stroke-width:0.8;\" x=\"46.965625\" xlink:href=\"#mda9d5ff4fd\" y=\"16.164449\"/>\r\n      </g>\r\n     </g>\r\n     <g id=\"text_14\">\r\n      <!-- 300 -->\r\n      <g transform=\"translate(20.878125 19.963667)scale(0.1 -0.1)\">\r\n       <use xlink:href=\"#DejaVuSans-51\"/>\r\n       <use x=\"63.623047\" xlink:href=\"#DejaVuSans-48\"/>\r\n       <use x=\"127.246094\" xlink:href=\"#DejaVuSans-48\"/>\r\n      </g>\r\n     </g>\r\n    </g>\r\n    <g id=\"text_15\">\r\n     <!-- Frequency -->\r\n     <defs>\r\n      <path d=\"M 9.8125 72.90625 \r\nL 51.703125 72.90625 \r\nL 51.703125 64.59375 \r\nL 19.671875 64.59375 \r\nL 19.671875 43.109375 \r\nL 48.578125 43.109375 \r\nL 48.578125 34.8125 \r\nL 19.671875 34.8125 \r\nL 19.671875 0 \r\nL 9.8125 0 \r\nz\r\n\" id=\"DejaVuSans-70\"/>\r\n      <path d=\"M 41.109375 46.296875 \r\nQ 39.59375 47.171875 37.8125 47.578125 \r\nQ 36.03125 48 33.890625 48 \r\nQ 26.265625 48 22.1875 43.046875 \r\nQ 18.109375 38.09375 18.109375 28.8125 \r\nL 18.109375 0 \r\nL 9.078125 0 \r\nL 9.078125 54.6875 \r\nL 18.109375 54.6875 \r\nL 18.109375 46.1875 \r\nQ 20.953125 51.171875 25.484375 53.578125 \r\nQ 30.03125 56 36.53125 56 \r\nQ 37.453125 56 38.578125 55.875 \r\nQ 39.703125 55.765625 41.0625 55.515625 \r\nz\r\n\" id=\"DejaVuSans-114\"/>\r\n      <path d=\"M 56.203125 29.59375 \r\nL 56.203125 25.203125 \r\nL 14.890625 25.203125 \r\nQ 15.484375 15.921875 20.484375 11.0625 \r\nQ 25.484375 6.203125 34.421875 6.203125 \r\nQ 39.59375 6.203125 44.453125 7.46875 \r\nQ 49.3125 8.734375 54.109375 11.28125 \r\nL 54.109375 2.78125 \r\nQ 49.265625 0.734375 44.1875 -0.34375 \r\nQ 39.109375 -1.421875 33.890625 -1.421875 \r\nQ 20.796875 -1.421875 13.15625 6.1875 \r\nQ 5.515625 13.8125 5.515625 26.8125 \r\nQ 5.515625 40.234375 12.765625 48.109375 \r\nQ 20.015625 56 32.328125 56 \r\nQ 43.359375 56 49.78125 48.890625 \r\nQ 56.203125 41.796875 56.203125 29.59375 \r\nz\r\nM 47.21875 32.234375 \r\nQ 47.125 39.59375 43.09375 43.984375 \r\nQ 39.0625 48.390625 32.421875 48.390625 \r\nQ 24.90625 48.390625 20.390625 44.140625 \r\nQ 15.875 39.890625 15.1875 32.171875 \r\nz\r\n\" id=\"DejaVuSans-101\"/>\r\n      <path d=\"M 14.796875 27.296875 \r\nQ 14.796875 17.390625 18.875 11.75 \r\nQ 22.953125 6.109375 30.078125 6.109375 \r\nQ 37.203125 6.109375 41.296875 11.75 \r\nQ 45.40625 17.390625 45.40625 27.296875 \r\nQ 45.40625 37.203125 41.296875 42.84375 \r\nQ 37.203125 48.484375 30.078125 48.484375 \r\nQ 22.953125 48.484375 18.875 42.84375 \r\nQ 14.796875 37.203125 14.796875 27.296875 \r\nz\r\nM 45.40625 8.203125 \r\nQ 42.578125 3.328125 38.25 0.953125 \r\nQ 33.9375 -1.421875 27.875 -1.421875 \r\nQ 17.96875 -1.421875 11.734375 6.484375 \r\nQ 5.515625 14.40625 5.515625 27.296875 \r\nQ 5.515625 40.1875 11.734375 48.09375 \r\nQ 17.96875 56 27.875 56 \r\nQ 33.9375 56 38.25 53.625 \r\nQ 42.578125 51.265625 45.40625 46.390625 \r\nL 45.40625 54.6875 \r\nL 54.390625 54.6875 \r\nL 54.390625 -20.796875 \r\nL 45.40625 -20.796875 \r\nz\r\n\" id=\"DejaVuSans-113\"/>\r\n      <path d=\"M 8.5 21.578125 \r\nL 8.5 54.6875 \r\nL 17.484375 54.6875 \r\nL 17.484375 21.921875 \r\nQ 17.484375 14.15625 20.5 10.265625 \r\nQ 23.53125 6.390625 29.59375 6.390625 \r\nQ 36.859375 6.390625 41.078125 11.03125 \r\nQ 45.3125 15.671875 45.3125 23.6875 \r\nL 45.3125 54.6875 \r\nL 54.296875 54.6875 \r\nL 54.296875 0 \r\nL 45.3125 0 \r\nL 45.3125 8.40625 \r\nQ 42.046875 3.421875 37.71875 1 \r\nQ 33.40625 -1.421875 27.6875 -1.421875 \r\nQ 18.265625 -1.421875 13.375 4.4375 \r\nQ 8.5 10.296875 8.5 21.578125 \r\nz\r\nM 31.109375 56 \r\nz\r\n\" id=\"DejaVuSans-117\"/>\r\n      <path d=\"M 54.890625 33.015625 \r\nL 54.890625 0 \r\nL 45.90625 0 \r\nL 45.90625 32.71875 \r\nQ 45.90625 40.484375 42.875 44.328125 \r\nQ 39.84375 48.1875 33.796875 48.1875 \r\nQ 26.515625 48.1875 22.3125 43.546875 \r\nQ 18.109375 38.921875 18.109375 30.90625 \r\nL 18.109375 0 \r\nL 9.078125 0 \r\nL 9.078125 54.6875 \r\nL 18.109375 54.6875 \r\nL 18.109375 46.1875 \r\nQ 21.34375 51.125 25.703125 53.5625 \r\nQ 30.078125 56 35.796875 56 \r\nQ 45.21875 56 50.046875 50.171875 \r\nQ 54.890625 44.34375 54.890625 33.015625 \r\nz\r\n\" id=\"DejaVuSans-110\"/>\r\n      <path d=\"M 48.78125 52.59375 \r\nL 48.78125 44.1875 \r\nQ 44.96875 46.296875 41.140625 47.34375 \r\nQ 37.3125 48.390625 33.40625 48.390625 \r\nQ 24.65625 48.390625 19.8125 42.84375 \r\nQ 14.984375 37.3125 14.984375 27.296875 \r\nQ 14.984375 17.28125 19.8125 11.734375 \r\nQ 24.65625 6.203125 33.40625 6.203125 \r\nQ 37.3125 6.203125 41.140625 7.25 \r\nQ 44.96875 8.296875 48.78125 10.40625 \r\nL 48.78125 2.09375 \r\nQ 45.015625 0.34375 40.984375 -0.53125 \r\nQ 36.96875 -1.421875 32.421875 -1.421875 \r\nQ 20.0625 -1.421875 12.78125 6.34375 \r\nQ 5.515625 14.109375 5.515625 27.296875 \r\nQ 5.515625 40.671875 12.859375 48.328125 \r\nQ 20.21875 56 33.015625 56 \r\nQ 37.15625 56 41.109375 55.140625 \r\nQ 45.0625 54.296875 48.78125 52.59375 \r\nz\r\n\" id=\"DejaVuSans-99\"/>\r\n      <path d=\"M 32.171875 -5.078125 \r\nQ 28.375 -14.84375 24.75 -17.8125 \r\nQ 21.140625 -20.796875 15.09375 -20.796875 \r\nL 7.90625 -20.796875 \r\nL 7.90625 -13.28125 \r\nL 13.1875 -13.28125 \r\nQ 16.890625 -13.28125 18.9375 -11.515625 \r\nQ 21 -9.765625 23.484375 -3.21875 \r\nL 25.09375 0.875 \r\nL 2.984375 54.6875 \r\nL 12.5 54.6875 \r\nL 29.59375 11.921875 \r\nL 46.6875 54.6875 \r\nL 56.203125 54.6875 \r\nz\r\n\" id=\"DejaVuSans-121\"/>\r\n     </defs>\r\n     <g transform=\"translate(14.798438 142.217656)rotate(-90)scale(0.1 -0.1)\">\r\n      <use xlink:href=\"#DejaVuSans-70\"/>\r\n      <use x=\"57.410156\" xlink:href=\"#DejaVuSans-114\"/>\r\n      <use x=\"98.492188\" xlink:href=\"#DejaVuSans-101\"/>\r\n      <use x=\"160.015625\" xlink:href=\"#DejaVuSans-113\"/>\r\n      <use x=\"223.492188\" xlink:href=\"#DejaVuSans-117\"/>\r\n      <use x=\"286.871094\" xlink:href=\"#DejaVuSans-101\"/>\r\n      <use x=\"348.394531\" xlink:href=\"#DejaVuSans-110\"/>\r\n      <use x=\"411.773438\" xlink:href=\"#DejaVuSans-99\"/>\r\n      <use x=\"466.753906\" xlink:href=\"#DejaVuSans-121\"/>\r\n     </g>\r\n    </g>\r\n   </g>\r\n   <g id=\"patch_13\">\r\n    <path d=\"M 46.965625 224.64 \r\nL 46.965625 7.2 \r\n\" style=\"fill:none;stroke:#000000;stroke-linecap:square;stroke-linejoin:miter;stroke-width:0.8;\"/>\r\n   </g>\r\n   <g id=\"patch_14\">\r\n    <path d=\"M 381.765625 224.64 \r\nL 381.765625 7.2 \r\n\" style=\"fill:none;stroke:#000000;stroke-linecap:square;stroke-linejoin:miter;stroke-width:0.8;\"/>\r\n   </g>\r\n   <g id=\"patch_15\">\r\n    <path d=\"M 46.965625 224.64 \r\nL 381.765625 224.64 \r\n\" style=\"fill:none;stroke:#000000;stroke-linecap:square;stroke-linejoin:miter;stroke-width:0.8;\"/>\r\n   </g>\r\n   <g id=\"patch_16\">\r\n    <path d=\"M 46.965625 7.2 \r\nL 381.765625 7.2 \r\n\" style=\"fill:none;stroke:#000000;stroke-linecap:square;stroke-linejoin:miter;stroke-width:0.8;\"/>\r\n   </g>\r\n   <g id=\"legend_1\">\r\n    <g id=\"patch_17\">\r\n     <path d=\"M 336.403125 29.878125 \r\nL 374.765625 29.878125 \r\nQ 376.765625 29.878125 376.765625 27.878125 \r\nL 376.765625 14.2 \r\nQ 376.765625 12.2 374.765625 12.2 \r\nL 336.403125 12.2 \r\nQ 334.403125 12.2 334.403125 14.2 \r\nL 334.403125 27.878125 \r\nQ 334.403125 29.878125 336.403125 29.878125 \r\nz\r\n\" style=\"fill:#ffffff;opacity:0.8;stroke:#cccccc;stroke-linejoin:miter;\"/>\r\n    </g>\r\n    <g id=\"patch_18\">\r\n     <path d=\"M 338.403125 23.798437 \r\nL 358.403125 23.798437 \r\nL 358.403125 16.798437 \r\nL 338.403125 16.798437 \r\nz\r\n\" style=\"fill:#1f77b4;\"/>\r\n    </g>\r\n    <g id=\"text_16\">\r\n     <!-- 0 -->\r\n     <g transform=\"translate(366.403125 23.798437)scale(0.1 -0.1)\">\r\n      <use xlink:href=\"#DejaVuSans-48\"/>\r\n     </g>\r\n    </g>\r\n   </g>\r\n  </g>\r\n </g>\r\n <defs>\r\n  <clipPath id=\"p7a1ad914bf\">\r\n   <rect height=\"217.44\" width=\"334.8\" x=\"46.965625\" y=\"7.2\"/>\r\n  </clipPath>\r\n </defs>\r\n</svg>\r\n",
      "text/plain": "<Figure size 432x288 with 1 Axes>"
     },
     "metadata": {
      "needs_background": "light"
     },
     "output_type": "display_data"
    }
   ],
   "source": [
    "df.plot.hist()"
   ]
  },
  {
   "cell_type": "code",
   "execution_count": 0,
   "metadata": {
    "collapsed": false
   },
   "outputs": [
   ],
   "source": [
   ]
  }
 ],
 "metadata": {
  "file_extension": ".py",
  "kernelspec": {
   "display_name": "Python 3 (system-wide)",
   "language": "python",
   "metadata": {
    "cocalc": {
     "description": "Python 3 programming language",
     "priority": 100,
     "url": "https://www.python.org/"
    }
   },
   "name": "python3"
  },
  "language_info": {
   "codemirror_mode": {
    "name": "ipython",
    "version": 3
   },
   "file_extension": ".py",
   "mimetype": "text/x-python",
   "name": "python",
   "nbconvert_exporter": "python",
   "pygments_lexer": "ipython3",
   "version": "3.6.9"
  },
  "mimetype": "text/x-python",
  "name": "python",
  "npconvert_exporter": "python",
  "orig_nbformat": 2,
  "pygments_lexer": "ipython3",
  "version": 3
 },
 "nbformat": 4,
 "nbformat_minor": 0
}