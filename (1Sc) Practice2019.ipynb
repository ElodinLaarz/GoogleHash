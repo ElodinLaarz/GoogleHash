{
 "cells": [
  {
   "cell_type": "code",
   "execution_count": 1,
   "metadata": {},
   "outputs": [],
   "source": [
    "import numpy as np\n",
    "from typing import NamedTuple\n",
    "import random as rd\n",
    "from collections import defaultdict"
   ]
  },
  {
   "cell_type": "code",
   "execution_count": 2,
   "metadata": {},
   "outputs": [],
   "source": [
    "with open('data/qualification_round_2019/d_pet_pictures.txt') as file:\n",
    "    lines = file.read().splitlines()\n",
    "\n",
    "NUMPHOTOS = int(lines[0])\n",
    "RAW_PHOTOS = [line.split() for line in lines[1:]]\n",
    "\n",
    "class Photo(NamedTuple):\n",
    "    type: str\n",
    "    len: int\n",
    "    tags: tuple\n",
    "    num: int\n",
    "\n",
    "photos = [Photo(photo[0], int(photo[1]), tuple(photo[2:]),num) for num, photo in enumerate(RAW_PHOTOS)]"
   ]
  },
  {
   "cell_type": "code",
   "execution_count": 3,
   "metadata": {},
   "outputs": [
    {
     "name": "stdout",
     "output_type": "stream",
     "text": "Horizontal: 30000\nVertical: 60000\n"
    }
   ],
   "source": [
    "photos_H = sorted([photo for photo in photos if photo.type == 'H'])\n",
    "photos_V = sorted([photo for photo in photos if photo.type == 'V'])\n",
    "print(f'Horizontal: {len(photos_H)}\\nVertical: {len(photos_V)}')"
   ]
  },
  {
   "cell_type": "code",
   "execution_count": 4,
   "metadata": {},
   "outputs": [],
   "source": [
    "def interest(tags):\n",
    "    tags1 = set(tags[0])\n",
    "    tags2 = set(tags[1])\n",
    "    S1 = len(tags1 - tags2)\n",
    "    S2 = len(tags1 & tags2)\n",
    "    S3 = len(tags2 - tags1)\n",
    "    return min(S1,S2,S3)"
   ]
  },
  {
   "cell_type": "code",
   "execution_count": 5,
   "metadata": {},
   "outputs": [],
   "source": [
    "def random_partition(lst, parts = 2):\n",
    "    percentage = 1/parts\n",
    "    cut = int(len(lst)*percentage)+1\n",
    "    if cut == 0:\n",
    "        raise ValueError('Too Many Parts')\n",
    "    rd.shuffle(lst)\n",
    "    return [lst[i*cut:(i+1)*cut] for i in range(parts)]\n",
    "    "
   ]
  },
  {
   "cell_type": "code",
   "execution_count": 6,
   "metadata": {},
   "outputs": [],
   "source": [
    "tag_photo = defaultdict(list)\n",
    "for photo in photos_H:\n",
    "    for k in photo.tags:\n",
    "        tag_photo[k].append(photo)"
   ]
  },
  {
   "cell_type": "code",
   "execution_count": 7,
   "metadata": {},
   "outputs": [],
   "source": [
    "splits = random_partition(photos_H, int(NUMPHOTOS**0.5))\n",
    "test = splits[0]"
   ]
  },
  {
   "cell_type": "code",
   "execution_count": 21,
   "metadata": {},
   "outputs": [
    {
     "name": "stdout",
     "output_type": "stream",
     "text": "Counter:  10000"
    }
   ],
   "source": [
    "import time\n",
    "def recursion():\n",
    "    seen = set()\n",
    "    chain = []\n",
    "    pic_set = photos_H\n",
    "    pic = rd.sample(photos_H,1)[0]\n",
    "    counter = 0\n",
    "    while pic_set and counter <= 10000:\n",
    "        print('Counter: ', counter, end='\\r')\n",
    "        pic = max(rd.sample(pic_set,20), key=lambda x: interest((pic.tags,x.tags)))\n",
    "        if not pic in seen:\n",
    "            counter += 1\n",
    "            chain.append(pic)\n",
    "            seen.add(pic)\n",
    "            pic_set = set(x for tag in pic.tags for x in tag_photo[tag])\n",
    "            if pic_set.issubset(seen):\n",
    "                break\n",
    "        else:\n",
    "            pic_set.remove(pic)\n",
    "    return chain\n",
    "t = time.time()\n",
    "chain = recursion()\n",
    "t2 = time.time()"
   ]
  },
  {
   "cell_type": "code",
   "execution_count": 22,
   "metadata": {},
   "outputs": [
    {
     "name": "stdout",
     "output_type": "stream",
     "text": "43290 10001 620.4208018779755\n"
    }
   ],
   "source": [
    "score = sum([interest((x.tags, y.tags)) for x, y in zip(chain, chain[1:])])\n",
    "print(score, len(chain), (t2 - t))"
   ]
  },
  {
   "cell_type": "code",
   "execution_count": null,
   "metadata": {},
   "outputs": [],
   "source": []
  }
 ],
 "metadata": {
  "file_extension": ".py",
  "kernelspec": {
   "display_name": "Python 3.7.3 64-bit",
   "language": "python",
   "metadata": {
    "cocalc": {
     "description": "Python 3 programming language",
     "priority": 100,
     "url": "https://www.python.org/"
    }
   },
   "name": "python37364bit60048d0b48ed47279bce78137ce80676"
  },
  "language_info": {
   "codemirror_mode": {
    "name": "ipython",
    "version": 3
   },
   "file_extension": ".py",
   "mimetype": "text/x-python",
   "name": "python",
   "nbconvert_exporter": "python",
   "pygments_lexer": "ipython3",
   "version": "3.7.3-final"
  },
  "mimetype": "text/x-python",
  "name": "python",
  "npconvert_exporter": "python",
  "orig_nbformat": 2,
  "pygments_lexer": "ipython3",
  "version": 3
 },
 "nbformat": 4,
 "nbformat_minor": 0
}